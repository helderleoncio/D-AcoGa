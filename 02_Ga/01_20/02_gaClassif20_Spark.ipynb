{
 "cells": [
  {
   "cell_type": "markdown",
   "metadata": {},
   "source": [
    "# <center> The D-ACO/GA Project <br>\n",
    "## <center> (Digital - Ant Colony Optimization/Genetic Algorithm)\n",
    "### <center> Classification with Spark\n",
    "#### <center> Dataset NBaIoT"
   ]
  },
  {
   "cell_type": "code",
   "execution_count": 1,
   "metadata": {},
   "outputs": [],
   "source": [
    "import findspark\n",
    "findspark.init()"
   ]
  },
  {
   "cell_type": "code",
   "execution_count": 2,
   "metadata": {
    "colab": {},
    "colab_type": "code",
    "id": "hfomCy9dDbMk"
   },
   "outputs": [
    {
     "data": {
      "text/html": [
       "<style>pre { white-space: pre !important; }</style>"
      ],
      "text/plain": [
       "<IPython.core.display.HTML object>"
      ]
     },
     "metadata": {},
     "output_type": "display_data"
    }
   ],
   "source": [
    "# Importação de modulos Python\n",
    "import os\n",
    "import time\n",
    "from datetime import datetime\n",
    "\n",
    "import pandas as pd\n",
    "\n",
    "from IPython.core.display import HTML\n",
    "display(HTML(\"<style>pre { white-space: pre !important; }</style>\"))\n",
    "\n",
    "os.environ[\"PYARROW_IGNORE_TIMEZONE\"] = \"1\""
   ]
  },
  {
   "cell_type": "code",
   "execution_count": 3,
   "metadata": {},
   "outputs": [],
   "source": [
    "from pyspark.sql import SparkSession\n",
    "from pyspark import SparkContext, SparkConf\n",
    "\n",
    "import pyspark.pandas as ps\n",
    "from pyspark.ml import feature\n",
    "\n",
    "from pyspark.ml.feature import VectorAssembler\n",
    "\n",
    "from pyspark.ml.classification import NaiveBayes\n",
    "from pyspark.ml.classification import LinearSVC\n",
    "from pyspark.ml.classification import RandomForestClassifier\n",
    "from pyspark.ml.classification import DecisionTreeClassifier\n",
    "from pyspark.ml.classification import MultilayerPerceptronClassifier\n",
    "\n",
    "from pyspark.ml.evaluation import BinaryClassificationEvaluator\n",
    "from pyspark.ml.evaluation import MulticlassClassificationEvaluator"
   ]
  },
  {
   "cell_type": "code",
   "execution_count": 4,
   "metadata": {},
   "outputs": [],
   "source": [
    "# Importação das bibliotecas Graficas\n",
    "import scikitplot as skplt\n",
    "import matplotlib.pyplot as plt\n",
    "\n",
    "# Exibe gráficos na página (inline)\n",
    "%matplotlib inline"
   ]
  },
  {
   "cell_type": "code",
   "execution_count": 5,
   "metadata": {},
   "outputs": [],
   "source": [
    "import warnings\n",
    "warnings.filterwarnings('ignore')"
   ]
  },
  {
   "cell_type": "markdown",
   "metadata": {},
   "source": [
    "## Classificação e Avaliação - Apache Spark"
   ]
  },
  {
   "cell_type": "code",
   "execution_count": 6,
   "metadata": {},
   "outputs": [
    {
     "name": "stderr",
     "output_type": "stream",
     "text": [
      "24/02/25 14:07:08 WARN SparkSession: Using an existing Spark session; only runtime SQL configurations will take effect.\n"
     ]
    }
   ],
   "source": [
    "spark = SparkSession.builder\\\n",
    "       .appName(\"D-ACO/IDS_SPARK\")\\\n",
    "       .master(\"spark://192.168.1.20:7077\") \\\n",
    "       .getOrCreate()"
   ]
  },
  {
   "cell_type": "markdown",
   "metadata": {},
   "source": [
    "## Seleção e Apresentação do Dataset"
   ]
  },
  {
   "cell_type": "code",
   "execution_count": 7,
   "metadata": {},
   "outputs": [
    {
     "name": "stderr",
     "output_type": "stream",
     "text": [
      "                                                                                \r"
     ]
    },
    {
     "data": {
      "text/html": [
       "<div>\n",
       "<style scoped>\n",
       "    .dataframe tbody tr th:only-of-type {\n",
       "        vertical-align: middle;\n",
       "    }\n",
       "\n",
       "    .dataframe tbody tr th {\n",
       "        vertical-align: top;\n",
       "    }\n",
       "\n",
       "    .dataframe thead th {\n",
       "        text-align: right;\n",
       "    }\n",
       "</style>\n",
       "<table border=\"1\" class=\"dataframe\">\n",
       "  <thead>\n",
       "    <tr style=\"text-align: right;\">\n",
       "      <th></th>\n",
       "      <th>MI_dir_L0_1_variance</th>\n",
       "      <th>H_L0_1_weight</th>\n",
       "      <th>H_L0_1_variance</th>\n",
       "      <th>HH_L0_1_mean</th>\n",
       "      <th>HH_jit_L0_1_mean</th>\n",
       "      <th>HH_jit_L0_1_variance</th>\n",
       "      <th>HpHp_L0_1_weight</th>\n",
       "      <th>HpHp_L0_1_mean</th>\n",
       "      <th>HpHp_L0_1_std</th>\n",
       "      <th>HpHp_L0_1_magnitude</th>\n",
       "      <th>HpHp_L0_1_radius</th>\n",
       "      <th>HpHp_L0_1_covariance</th>\n",
       "      <th>label</th>\n",
       "    </tr>\n",
       "  </thead>\n",
       "  <tbody>\n",
       "    <tr>\n",
       "      <th>0</th>\n",
       "      <td>63520.590911</td>\n",
       "      <td>3115.625242</td>\n",
       "      <td>63520.590911</td>\n",
       "      <td>60.000000</td>\n",
       "      <td>1.507658e+09</td>\n",
       "      <td>0.000000e+00</td>\n",
       "      <td>1.000000</td>\n",
       "      <td>60.0</td>\n",
       "      <td>0.000000</td>\n",
       "      <td>60.0</td>\n",
       "      <td>0.000000e+00</td>\n",
       "      <td>0.0</td>\n",
       "      <td>0</td>\n",
       "    </tr>\n",
       "    <tr>\n",
       "      <th>1</th>\n",
       "      <td>43.127894</td>\n",
       "      <td>6684.153422</td>\n",
       "      <td>43.127894</td>\n",
       "      <td>60.000000</td>\n",
       "      <td>1.507657e+09</td>\n",
       "      <td>0.000000e+00</td>\n",
       "      <td>1.000000</td>\n",
       "      <td>60.0</td>\n",
       "      <td>0.000000</td>\n",
       "      <td>60.0</td>\n",
       "      <td>0.000000e+00</td>\n",
       "      <td>0.0</td>\n",
       "      <td>0</td>\n",
       "    </tr>\n",
       "    <tr>\n",
       "      <th>2</th>\n",
       "      <td>59809.003237</td>\n",
       "      <td>3802.324281</td>\n",
       "      <td>59809.003237</td>\n",
       "      <td>553.854057</td>\n",
       "      <td>1.762503e-02</td>\n",
       "      <td>1.648258e+07</td>\n",
       "      <td>1.000000</td>\n",
       "      <td>554.0</td>\n",
       "      <td>0.000000</td>\n",
       "      <td>554.0</td>\n",
       "      <td>0.000000e+00</td>\n",
       "      <td>0.0</td>\n",
       "      <td>0</td>\n",
       "    </tr>\n",
       "    <tr>\n",
       "      <th>3</th>\n",
       "      <td>2.018709</td>\n",
       "      <td>2011.407214</td>\n",
       "      <td>2.018709</td>\n",
       "      <td>60.000000</td>\n",
       "      <td>1.507654e+09</td>\n",
       "      <td>0.000000e+00</td>\n",
       "      <td>1.000000</td>\n",
       "      <td>60.0</td>\n",
       "      <td>0.000000</td>\n",
       "      <td>60.0</td>\n",
       "      <td>0.000000e+00</td>\n",
       "      <td>0.0</td>\n",
       "      <td>0</td>\n",
       "    </tr>\n",
       "    <tr>\n",
       "      <th>4</th>\n",
       "      <td>29646.295000</td>\n",
       "      <td>32.569167</td>\n",
       "      <td>29646.295000</td>\n",
       "      <td>74.000000</td>\n",
       "      <td>1.060831e+01</td>\n",
       "      <td>1.729738e+04</td>\n",
       "      <td>1.933259</td>\n",
       "      <td>74.0</td>\n",
       "      <td>0.000001</td>\n",
       "      <td>74.0</td>\n",
       "      <td>1.820000e-12</td>\n",
       "      <td>0.0</td>\n",
       "      <td>1</td>\n",
       "    </tr>\n",
       "  </tbody>\n",
       "</table>\n",
       "</div>"
      ],
      "text/plain": [
       "   MI_dir_L0_1_variance  H_L0_1_weight  H_L0_1_variance  HH_L0_1_mean  HH_jit_L0_1_mean  HH_jit_L0_1_variance  HpHp_L0_1_weight  HpHp_L0_1_mean  HpHp_L0_1_std  HpHp_L0_1_magnitude  HpHp_L0_1_radius  HpHp_L0_1_covariance  label\n",
       "0          63520.590911    3115.625242     63520.590911     60.000000      1.507658e+09          0.000000e+00          1.000000            60.0       0.000000                 60.0      0.000000e+00                   0.0      0\n",
       "1             43.127894    6684.153422        43.127894     60.000000      1.507657e+09          0.000000e+00          1.000000            60.0       0.000000                 60.0      0.000000e+00                   0.0      0\n",
       "2          59809.003237    3802.324281     59809.003237    553.854057      1.762503e-02          1.648258e+07          1.000000           554.0       0.000000                554.0      0.000000e+00                   0.0      0\n",
       "3              2.018709    2011.407214         2.018709     60.000000      1.507654e+09          0.000000e+00          1.000000            60.0       0.000000                 60.0      0.000000e+00                   0.0      0\n",
       "4          29646.295000      32.569167     29646.295000     74.000000      1.060831e+01          1.729738e+04          1.933259            74.0       0.000001                 74.0      1.820000e-12                   0.0      1"
      ]
     },
     "execution_count": 7,
     "metadata": {},
     "output_type": "execute_result"
    }
   ],
   "source": [
    "dfTrain = ps.read_csv('../../../../../datasets/dacoga/nbaiot/bestsub/NBaIoT20Train_GA_2024_02_21_13_30_00_selected.csv')\n",
    "dfTrain.head()"
   ]
  },
  {
   "cell_type": "code",
   "execution_count": 8,
   "metadata": {},
   "outputs": [
    {
     "name": "stderr",
     "output_type": "stream",
     "text": [
      "                                                                                \r"
     ]
    },
    {
     "data": {
      "text/html": [
       "<div>\n",
       "<style scoped>\n",
       "    .dataframe tbody tr th:only-of-type {\n",
       "        vertical-align: middle;\n",
       "    }\n",
       "\n",
       "    .dataframe tbody tr th {\n",
       "        vertical-align: top;\n",
       "    }\n",
       "\n",
       "    .dataframe thead th {\n",
       "        text-align: right;\n",
       "    }\n",
       "</style>\n",
       "<table border=\"1\" class=\"dataframe\">\n",
       "  <thead>\n",
       "    <tr style=\"text-align: right;\">\n",
       "      <th></th>\n",
       "      <th>MI_dir_L0_1_variance</th>\n",
       "      <th>H_L0_1_weight</th>\n",
       "      <th>H_L0_1_variance</th>\n",
       "      <th>HH_L0_1_mean</th>\n",
       "      <th>HH_jit_L0_1_mean</th>\n",
       "      <th>HH_jit_L0_1_variance</th>\n",
       "      <th>HpHp_L0_1_weight</th>\n",
       "      <th>HpHp_L0_1_mean</th>\n",
       "      <th>HpHp_L0_1_std</th>\n",
       "      <th>HpHp_L0_1_magnitude</th>\n",
       "      <th>HpHp_L0_1_radius</th>\n",
       "      <th>HpHp_L0_1_covariance</th>\n",
       "      <th>label</th>\n",
       "    </tr>\n",
       "  </thead>\n",
       "  <tbody>\n",
       "    <tr>\n",
       "      <th>0</th>\n",
       "      <td>59840.036542</td>\n",
       "      <td>3855.164044</td>\n",
       "      <td>59840.036542</td>\n",
       "      <td>60.000000</td>\n",
       "      <td>1.507656e+09</td>\n",
       "      <td>0.000000e+00</td>\n",
       "      <td>1.000000</td>\n",
       "      <td>60.0</td>\n",
       "      <td>0.000000</td>\n",
       "      <td>60.0</td>\n",
       "      <td>0.000000e+00</td>\n",
       "      <td>0.0</td>\n",
       "      <td>0</td>\n",
       "    </tr>\n",
       "    <tr>\n",
       "      <th>1</th>\n",
       "      <td>57924.428871</td>\n",
       "      <td>6183.451303</td>\n",
       "      <td>57924.428871</td>\n",
       "      <td>565.993158</td>\n",
       "      <td>2.474174e-02</td>\n",
       "      <td>3.191847e+07</td>\n",
       "      <td>1.000000</td>\n",
       "      <td>566.0</td>\n",
       "      <td>0.000000</td>\n",
       "      <td>566.0</td>\n",
       "      <td>0.000000e+00</td>\n",
       "      <td>0.0</td>\n",
       "      <td>0</td>\n",
       "    </tr>\n",
       "    <tr>\n",
       "      <th>2</th>\n",
       "      <td>1.736939</td>\n",
       "      <td>2007.014853</td>\n",
       "      <td>1.736939</td>\n",
       "      <td>60.000000</td>\n",
       "      <td>1.507654e+09</td>\n",
       "      <td>0.000000e+00</td>\n",
       "      <td>1.000000</td>\n",
       "      <td>60.0</td>\n",
       "      <td>0.000000</td>\n",
       "      <td>60.0</td>\n",
       "      <td>0.000000e+00</td>\n",
       "      <td>0.0</td>\n",
       "      <td>0</td>\n",
       "    </tr>\n",
       "    <tr>\n",
       "      <th>3</th>\n",
       "      <td>60036.726634</td>\n",
       "      <td>3680.360996</td>\n",
       "      <td>60036.726634</td>\n",
       "      <td>60.000000</td>\n",
       "      <td>1.507656e+09</td>\n",
       "      <td>0.000000e+00</td>\n",
       "      <td>1.000000</td>\n",
       "      <td>60.0</td>\n",
       "      <td>0.000000</td>\n",
       "      <td>60.0</td>\n",
       "      <td>0.000000e+00</td>\n",
       "      <td>0.0</td>\n",
       "      <td>0</td>\n",
       "    </tr>\n",
       "    <tr>\n",
       "      <th>4</th>\n",
       "      <td>60140.845251</td>\n",
       "      <td>5000.404592</td>\n",
       "      <td>60140.845251</td>\n",
       "      <td>553.979500</td>\n",
       "      <td>1.618776e-02</td>\n",
       "      <td>1.662065e+07</td>\n",
       "      <td>2797.436106</td>\n",
       "      <td>554.0</td>\n",
       "      <td>0.000025</td>\n",
       "      <td>554.0</td>\n",
       "      <td>6.402843e-10</td>\n",
       "      <td>0.0</td>\n",
       "      <td>0</td>\n",
       "    </tr>\n",
       "  </tbody>\n",
       "</table>\n",
       "</div>"
      ],
      "text/plain": [
       "   MI_dir_L0_1_variance  H_L0_1_weight  H_L0_1_variance  HH_L0_1_mean  HH_jit_L0_1_mean  HH_jit_L0_1_variance  HpHp_L0_1_weight  HpHp_L0_1_mean  HpHp_L0_1_std  HpHp_L0_1_magnitude  HpHp_L0_1_radius  HpHp_L0_1_covariance  label\n",
       "0          59840.036542    3855.164044     59840.036542     60.000000      1.507656e+09          0.000000e+00          1.000000            60.0       0.000000                 60.0      0.000000e+00                   0.0      0\n",
       "1          57924.428871    6183.451303     57924.428871    565.993158      2.474174e-02          3.191847e+07          1.000000           566.0       0.000000                566.0      0.000000e+00                   0.0      0\n",
       "2              1.736939    2007.014853         1.736939     60.000000      1.507654e+09          0.000000e+00          1.000000            60.0       0.000000                 60.0      0.000000e+00                   0.0      0\n",
       "3          60036.726634    3680.360996     60036.726634     60.000000      1.507656e+09          0.000000e+00          1.000000            60.0       0.000000                 60.0      0.000000e+00                   0.0      0\n",
       "4          60140.845251    5000.404592     60140.845251    553.979500      1.618776e-02          1.662065e+07       2797.436106           554.0       0.000025                554.0      6.402843e-10                   0.0      0"
      ]
     },
     "execution_count": 8,
     "metadata": {},
     "output_type": "execute_result"
    }
   ],
   "source": [
    "dfTest = ps.read_csv('../../../../../datasets/dacoga/nbaiot/test/dsetN-Baiot_v2_20_test.csv')\n",
    "dfTest = dfTest[dfTrain.columns]\n",
    "dfTest.head()"
   ]
  },
  {
   "cell_type": "code",
   "execution_count": 9,
   "metadata": {},
   "outputs": [],
   "source": [
    "# Listando as colunas\n",
    "#dfTrain.columns"
   ]
  },
  {
   "cell_type": "code",
   "execution_count": 10,
   "metadata": {},
   "outputs": [],
   "source": [
    "#dfTest.columns"
   ]
  },
  {
   "cell_type": "code",
   "execution_count": 11,
   "metadata": {},
   "outputs": [],
   "source": [
    "# Start algorithms time\n",
    "start_time = time.time()"
   ]
  },
  {
   "cell_type": "code",
   "execution_count": 12,
   "metadata": {},
   "outputs": [],
   "source": [
    "dataframeTrain = dfTrain.to_spark()"
   ]
  },
  {
   "cell_type": "code",
   "execution_count": 13,
   "metadata": {},
   "outputs": [],
   "source": [
    "vecAssembler = VectorAssembler(inputCols=dataframeTrain.columns[:-1], outputCol='features')\n",
    "\n",
    "dsetTrain = vecAssembler.transform(dataframeTrain)\n",
    "dsetTrain = dsetTrain.select(\"label\",\"features\")\n",
    "\n",
    "#dfTrain.show(5, truncate=True)"
   ]
  },
  {
   "cell_type": "code",
   "execution_count": 14,
   "metadata": {},
   "outputs": [
    {
     "name": "stderr",
     "output_type": "stream",
     "text": [
      "                                                                                \r"
     ]
    }
   ],
   "source": [
    "mmScaler = feature.MinMaxScaler(inputCol='features', \n",
    "                                outputCol='scaled_features').fit(dsetTrain)\n",
    "\n",
    "dsetTrain = mmScaler.transform(dsetTrain).drop('features')\n",
    "dsetTrain = dsetTrain.withColumnRenamed('scaled_features', 'features')\n",
    "\n",
    "#dfTrain.show(5, truncate=True)"
   ]
  },
  {
   "cell_type": "code",
   "execution_count": 15,
   "metadata": {},
   "outputs": [],
   "source": [
    "dataframeTest = dfTest.to_spark()"
   ]
  },
  {
   "cell_type": "code",
   "execution_count": 16,
   "metadata": {},
   "outputs": [],
   "source": [
    "vecAssembler = VectorAssembler(inputCols=dataframeTest.columns[:-1], outputCol='features')\n",
    "\n",
    "dsetTest = vecAssembler.transform(dataframeTest)\n",
    "dsetTest = dsetTest.select(\"label\",\"features\")\n",
    "\n",
    "#dfTrain.show(5, truncate=True)"
   ]
  },
  {
   "cell_type": "code",
   "execution_count": 17,
   "metadata": {},
   "outputs": [
    {
     "name": "stderr",
     "output_type": "stream",
     "text": [
      "                                                                                \r"
     ]
    }
   ],
   "source": [
    "mmScaler = feature.MinMaxScaler(inputCol='features', \n",
    "                                outputCol='scaled_features').fit(dsetTest)\n",
    "\n",
    "dsetTest = mmScaler.transform(dsetTest).drop('features')\n",
    "dsetTest = dsetTest.withColumnRenamed('scaled_features', 'features')\n",
    "\n",
    "#dfTrain.show(5, truncate=True)"
   ]
  },
  {
   "cell_type": "code",
   "execution_count": 18,
   "metadata": {},
   "outputs": [],
   "source": [
    "# Split ramdomly the dataset into train and test group\n",
    "# [0.7,0.3] => 70% for train and 30% for test\n",
    "# [1.0,0.2] => 100% for train and 20% for test, not good, acuracy always 100%\n",
    "# [0.1,0.02] => 10% for train and 2% for test, if big datasets\n",
    "# 1234 is the random seed\n",
    "\n",
    "# Sample of train and test dataset\n",
    "train_sample = 0.7\n",
    "test_sample = 0.3\n",
    "\n",
    "# Split the data into training and test sets (30% held out for testing)\n",
    "#(trainingData, testData) = df_spark.randomSplit([train_sample, test_sample], seed=1234)\n",
    "\n",
    "trainingData = dsetTrain\n",
    "testData = dsetTest"
   ]
  },
  {
   "cell_type": "code",
   "execution_count": 19,
   "metadata": {},
   "outputs": [],
   "source": [
    "# Dicionário de resultados\n",
    "dic = {}"
   ]
  },
  {
   "cell_type": "markdown",
   "metadata": {},
   "source": [
    "### Treinando e avaliando com Árvore de Decisão"
   ]
  },
  {
   "cell_type": "code",
   "execution_count": 20,
   "metadata": {},
   "outputs": [
    {
     "name": "stderr",
     "output_type": "stream",
     "text": [
      "                                                                                \r"
     ]
    }
   ],
   "source": [
    "start_time_dt =  time.time()\n",
    "\n",
    "# Train a DecisionTree model\n",
    "clf_dt = DecisionTreeClassifier(featuresCol='features', labelCol='label', predictionCol='prediction', probabilityCol='probability', \\\n",
    "                            rawPredictionCol='rawPrediction', maxDepth=5, maxBins=32, minInstancesPerNode=1, minInfoGain=0.0, \\\n",
    "                            maxMemoryInMB=256, cacheNodeIds=False, checkpointInterval=10, impurity='gini', seed=None)\n",
    "\n",
    "# Train model\n",
    "model_dt = clf_dt.fit(trainingData)\n",
    "\n",
    "# Make predictions.\n",
    "pred_dt = model_dt.transform(testData)"
   ]
  },
  {
   "cell_type": "code",
   "execution_count": 21,
   "metadata": {},
   "outputs": [
    {
     "name": "stderr",
     "output_type": "stream",
     "text": [
      "[Stage 39:=====================================>                  (16 + 8) / 24]\r"
     ]
    },
    {
     "name": "stdout",
     "output_type": "stream",
     "text": [
      "============================================================\n",
      "========== Sumário da Avaliação Árvore de Decisão ==========\n",
      "Acurácia = 99.95 %\n",
      "Precisão = 99.96 %\n",
      "Recall = 99.97 %\n",
      "F1-Score = 99.95 %\n",
      "Curva ROC = 99.95 %\n",
      "Tempo de Execução = 32.111 s\n",
      "============================================================\n"
     ]
    },
    {
     "name": "stderr",
     "output_type": "stream",
     "text": [
      "                                                                                \r"
     ]
    }
   ],
   "source": [
    "# Compute accuracy on the test set against model and select (prediction, true label) and compute test error\n",
    "eval_accuracy_dt = MulticlassClassificationEvaluator(labelCol=\"label\", predictionCol=\"prediction\", metricName=\"accuracy\")\n",
    "eval_precision_dt = MulticlassClassificationEvaluator(labelCol=\"label\", predictionCol=\"prediction\", metricName=\"precisionByLabel\")\n",
    "eval_recall_dt = MulticlassClassificationEvaluator(labelCol=\"label\", predictionCol=\"prediction\", metricName=\"recallByLabel\")\n",
    "eval_f1_dt = MulticlassClassificationEvaluator(labelCol=\"label\", predictionCol=\"prediction\", metricName=\"f1\")\n",
    "eval_auc_dt = BinaryClassificationEvaluator(labelCol=\"label\", rawPredictionCol=\"prediction\")\n",
    "\n",
    "accuracy_dt = eval_accuracy_dt.evaluate(pred_dt) * 100\n",
    "precision_dt = eval_precision_dt.evaluate(pred_dt) * 100\n",
    "recall_dt = eval_recall_dt.evaluate(pred_dt) * 100\n",
    "f1score_dt = eval_f1_dt.evaluate(pred_dt) * 100\n",
    "auc_dt = eval_accuracy_dt.evaluate(pred_dt) * 100\n",
    "\n",
    "dic['Árvore de\\nDecisão']  = accuracy_dt\n",
    "time_dt = time.time() - start_time_dt\n",
    "\n",
    "print(\"============================================================\")\n",
    "print(\"========== Sumário da Avaliação Árvore de Decisão ==========\")\n",
    "print(\"Acurácia = %3.2f %%\" % accuracy_dt)\n",
    "print(\"Precisão = %3.2f %%\" % precision_dt)\n",
    "print(\"Recall = %3.2f %%\" % recall_dt)\n",
    "print(\"F1-Score = %3.2f %%\" % f1score_dt)\n",
    "print(\"Curva ROC = %3.2f %%\" % auc_dt)\n",
    "print(\"Tempo de Execução = %3.3f s\" % time_dt)\n",
    "print(\"============================================================\")"
   ]
  },
  {
   "cell_type": "code",
   "execution_count": 22,
   "metadata": {},
   "outputs": [
    {
     "name": "stderr",
     "output_type": "stream",
     "text": [
      "                                                                                \r"
     ]
    },
    {
     "name": "stdout",
     "output_type": "stream",
     "text": [
      "+-----+----------+------+\n",
      "|label|prediction| count|\n",
      "+-----+----------+------+\n",
      "|    1|       1.0|153831|\n",
      "|    0|       0.0|589920|\n",
      "|    0|       1.0|   162|\n",
      "|    1|       0.0|   234|\n",
      "+-----+----------+------+\n",
      "\n"
     ]
    },
    {
     "name": "stderr",
     "output_type": "stream",
     "text": [
      "[Stage 44:=================================================>      (21 + 3) / 24]\r"
     ]
    },
    {
     "name": "stdout",
     "output_type": "stream",
     "text": [
      "+-----+------+------+\n",
      "|label|     0|     1|\n",
      "+-----+------+------+\n",
      "|    1|   234|153831|\n",
      "|    0|589920|   162|\n",
      "+-----+------+------+\n",
      "\n"
     ]
    },
    {
     "name": "stderr",
     "output_type": "stream",
     "text": [
      "                                                                                \r"
     ]
    }
   ],
   "source": [
    "# Agrupar por rótulos reais e previsões e contar o número de ocorrências\n",
    "confusion_matrix_df = pred_dt.groupBy('label', 'prediction').count()\n",
    "\n",
    "# Para visualizar a matriz de confusão como um DataFrame\n",
    "confusion_matrix_df.show()\n",
    "\n",
    "# Para uma melhor visualização e entendimento, você pode pivotar os dados\n",
    "# Isso é útil especialmente se você tem um número fixo de classes e deseja uma matriz quadrada\n",
    "confusion_matrix_pivot_dt = confusion_matrix_df.groupBy('label').pivot('prediction', [0, 1]).sum('count')\\\n",
    "                                            .fillna(0) # substitui os NAs por 0 para casos onde não há previsões para uma classe\n",
    "\n",
    "confusion_matrix_pivot_dt.show()"
   ]
  },
  {
   "cell_type": "code",
   "execution_count": 23,
   "metadata": {},
   "outputs": [],
   "source": [
    "# print(\"Decision Tree Final Result\")\n",
    "# predictions.show(5)"
   ]
  },
  {
   "cell_type": "markdown",
   "metadata": {},
   "source": [
    "### Treinando e avaliando com Random Forest"
   ]
  },
  {
   "cell_type": "code",
   "execution_count": 24,
   "metadata": {},
   "outputs": [
    {
     "name": "stderr",
     "output_type": "stream",
     "text": [
      "                                                                                \r"
     ]
    }
   ],
   "source": [
    "start_time_rf =  time.time()\n",
    "\n",
    "# Train a Random Forest model\n",
    "clf_rf = RandomForestClassifier(featuresCol='features', labelCol='label', predictionCol='prediction', probabilityCol='probability',\\\n",
    "                                 rawPredictionCol='rawPrediction', maxDepth=5, maxBins=32, minInstancesPerNode=1, minInfoGain=0.0,\\\n",
    "                                 numTrees=50, featureSubsetStrategy='auto', seed=None, subsamplingRate=1.0,\\\n",
    "                                 maxMemoryInMB=256, cacheNodeIds=False, checkpointInterval=10, impurity='gini')\n",
    "\n",
    "# Train model\n",
    "model_rf = clf_rf.fit(trainingData)\n",
    "\n",
    "# Make predictions.\n",
    "pred_rf = model_rf.transform(testData)"
   ]
  },
  {
   "cell_type": "code",
   "execution_count": 25,
   "metadata": {},
   "outputs": [
    {
     "name": "stderr",
     "output_type": "stream",
     "text": [
      "[Stage 75:============================================>           (19 + 5) / 24]\r"
     ]
    },
    {
     "name": "stdout",
     "output_type": "stream",
     "text": [
      "========================================================\n",
      "========== Sumário da Avaliação Random Forest ==========\n",
      "Acurácia = 99.94 %\n",
      "Precisão = 99.96 %\n",
      "Recall = 99.96 %\n",
      "F1-Score = 99.94 %\n",
      "Curva ROC = 99.94 %\n",
      "Tempo de Execução = 31.200 s\n",
      "========================================================\n"
     ]
    },
    {
     "name": "stderr",
     "output_type": "stream",
     "text": [
      "                                                                                \r"
     ]
    }
   ],
   "source": [
    "# Compute accuracy on the test set against model and select (prediction, true label) and compute test error\n",
    "eval_accuracy_rf = MulticlassClassificationEvaluator(labelCol=\"label\", predictionCol=\"prediction\", metricName=\"accuracy\")\n",
    "eval_precision_rf = MulticlassClassificationEvaluator(labelCol=\"label\", predictionCol=\"prediction\", metricName=\"precisionByLabel\")\n",
    "eval_recall_rf = MulticlassClassificationEvaluator(labelCol=\"label\", predictionCol=\"prediction\", metricName=\"recallByLabel\")\n",
    "eval_f1_rf = MulticlassClassificationEvaluator(labelCol=\"label\", predictionCol=\"prediction\", metricName=\"f1\")\n",
    "eval_auc_rf = BinaryClassificationEvaluator(labelCol=\"label\", rawPredictionCol=\"prediction\")\n",
    "\n",
    "accuracy_rf = eval_accuracy_dt.evaluate(pred_rf) * 100\n",
    "precision_rf = eval_precision_dt.evaluate(pred_rf) * 100\n",
    "recall_rf = eval_recall_dt.evaluate(pred_rf) * 100\n",
    "f1score_rf = eval_f1_dt.evaluate(pred_rf) * 100\n",
    "auc_rf = eval_accuracy_dt.evaluate(pred_rf) * 100\n",
    "\n",
    "dic['Random\\nForest']  = accuracy_rf\n",
    "time_rf = time.time() - start_time_rf\n",
    "\n",
    "print(\"========================================================\")\n",
    "print(\"========== Sumário da Avaliação Random Forest ==========\")\n",
    "print(\"Acurácia = %3.2f %%\" % accuracy_rf)\n",
    "print(\"Precisão = %3.2f %%\" % precision_rf)\n",
    "print(\"Recall = %3.2f %%\" % recall_rf)\n",
    "print(\"F1-Score = %3.2f %%\" % f1score_rf)\n",
    "print(\"Curva ROC = %3.2f %%\" % auc_rf)\n",
    "print(\"Tempo de Execução = %3.3f s\" % time_rf)\n",
    "print(\"========================================================\")"
   ]
  },
  {
   "cell_type": "code",
   "execution_count": 26,
   "metadata": {},
   "outputs": [
    {
     "name": "stderr",
     "output_type": "stream",
     "text": [
      "                                                                                \r"
     ]
    },
    {
     "name": "stdout",
     "output_type": "stream",
     "text": [
      "+-----+----------+------+\n",
      "|label|prediction| count|\n",
      "+-----+----------+------+\n",
      "|    1|       1.0|153824|\n",
      "|    0|       0.0|589865|\n",
      "|    0|       1.0|   217|\n",
      "|    1|       0.0|   241|\n",
      "+-----+----------+------+\n",
      "\n"
     ]
    },
    {
     "name": "stderr",
     "output_type": "stream",
     "text": [
      "[Stage 80:============================================>           (19 + 5) / 24]\r"
     ]
    },
    {
     "name": "stdout",
     "output_type": "stream",
     "text": [
      "+-----+------+------+\n",
      "|label|     0|     1|\n",
      "+-----+------+------+\n",
      "|    1|   241|153824|\n",
      "|    0|589865|   217|\n",
      "+-----+------+------+\n",
      "\n"
     ]
    },
    {
     "name": "stderr",
     "output_type": "stream",
     "text": [
      "                                                                                \r"
     ]
    }
   ],
   "source": [
    "# Agrupar por rótulos reais e previsões e contar o número de ocorrências\n",
    "confusion_matrix_rf = pred_rf.groupBy('label', 'prediction').count()\n",
    "\n",
    "# Para visualizar a matriz de confusão como um DataFrame\n",
    "confusion_matrix_rf.show()\n",
    "\n",
    "# Para uma melhor visualização e entendimento, você pode pivotar os dados\n",
    "# Isso é útil especialmente se você tem um número fixo de classes e deseja uma matriz quadrada\n",
    "confusion_matrix_pivot_rf = confusion_matrix_rf.groupBy('label').pivot('prediction', [0, 1]).sum('count')\\\n",
    "                                            .fillna(0) # substitui os NAs por 0 para casos onde não há previsões para uma classe\n",
    "\n",
    "confusion_matrix_pivot_rf.show()"
   ]
  },
  {
   "cell_type": "markdown",
   "metadata": {},
   "source": [
    "### Treinando e avaliando com Naive Bayes"
   ]
  },
  {
   "cell_type": "code",
   "execution_count": 27,
   "metadata": {},
   "outputs": [
    {
     "name": "stderr",
     "output_type": "stream",
     "text": [
      "                                                                                \r"
     ]
    }
   ],
   "source": [
    "start_time_nb =  time.time()\n",
    "\n",
    "clf_nb = NaiveBayes(smoothing=1.0, modelType=\"multinomial\")\n",
    "\n",
    "# Train model\n",
    "model_nb = clf_nb.fit(trainingData)\n",
    "\n",
    "# Make predictions.\n",
    "pred_nb = model_nb.transform(testData)"
   ]
  },
  {
   "cell_type": "code",
   "execution_count": 28,
   "metadata": {},
   "outputs": [
    {
     "name": "stderr",
     "output_type": "stream",
     "text": [
      "[Stage 97:=====================================================>  (23 + 1) / 24]\r"
     ]
    },
    {
     "name": "stdout",
     "output_type": "stream",
     "text": [
      "======================================================\n",
      "========== Sumário da Avaliação Naive Bayes ==========\n",
      "Acurácia = 81.28 %\n",
      "Precisão = 80.91 %\n",
      "Recall = 99.99 %\n",
      "F1-Score = 74.55 %\n",
      "Curva ROC = 81.28 %\n",
      "Tempo de Execução = 61.922 s\n",
      "======================================================\n"
     ]
    },
    {
     "name": "stderr",
     "output_type": "stream",
     "text": [
      "                                                                                \r"
     ]
    }
   ],
   "source": [
    "# Compute accuracy on the test set against model and select (prediction, true label) and compute test error\n",
    "eval_accuracy_nb = MulticlassClassificationEvaluator(labelCol=\"label\", predictionCol=\"prediction\", metricName=\"accuracy\")\n",
    "eval_precision_nb = MulticlassClassificationEvaluator(labelCol=\"label\", predictionCol=\"prediction\", metricName=\"precisionByLabel\")\n",
    "eval_recall_nb = MulticlassClassificationEvaluator(labelCol=\"label\", predictionCol=\"prediction\", metricName=\"recallByLabel\")\n",
    "eval_f1_nb = MulticlassClassificationEvaluator(labelCol=\"label\", predictionCol=\"prediction\", metricName=\"f1\")\n",
    "eval_auc_nb = BinaryClassificationEvaluator(labelCol=\"label\", rawPredictionCol=\"prediction\")\n",
    "\n",
    "accuracy_nb = eval_accuracy_dt.evaluate(pred_nb) * 100\n",
    "precision_nb = eval_precision_dt.evaluate(pred_nb) * 100\n",
    "recall_nb = eval_recall_dt.evaluate(pred_nb) * 100\n",
    "f1score_nb = eval_f1_dt.evaluate(pred_nb) * 100\n",
    "auc_nb = eval_accuracy_dt.evaluate(pred_nb) * 100\n",
    "\n",
    "dic[\"Naive\\nBayes\"]  = accuracy_nb\n",
    "time_nb = time.time() - start_time_nb\n",
    "\n",
    "print(\"======================================================\")\n",
    "print(\"========== Sumário da Avaliação Naive Bayes ==========\")\n",
    "print(\"Acurácia = %3.2f %%\" % accuracy_nb)\n",
    "print(\"Precisão = %3.2f %%\" % precision_nb)\n",
    "print(\"Recall = %3.2f %%\" % recall_nb)\n",
    "print(\"F1-Score = %3.2f %%\" % f1score_nb)\n",
    "print(\"Curva ROC = %3.2f %%\" % auc_nb)\n",
    "print(\"Tempo de Execução = %3.3f s\" % time_nb)\n",
    "print(\"======================================================\")"
   ]
  },
  {
   "cell_type": "code",
   "execution_count": 29,
   "metadata": {},
   "outputs": [
    {
     "name": "stderr",
     "output_type": "stream",
     "text": [
      "                                                                                \r"
     ]
    },
    {
     "name": "stdout",
     "output_type": "stream",
     "text": [
      "+-----+----------+------+\n",
      "|label|prediction| count|\n",
      "+-----+----------+------+\n",
      "|    1|       1.0| 14806|\n",
      "|    0|       0.0|590042|\n",
      "|    0|       1.0|    40|\n",
      "|    1|       0.0|139259|\n",
      "+-----+----------+------+\n",
      "\n"
     ]
    },
    {
     "name": "stderr",
     "output_type": "stream",
     "text": [
      "[Stage 102:====================================>                  (16 + 8) / 24]\r"
     ]
    },
    {
     "name": "stdout",
     "output_type": "stream",
     "text": [
      "+-----+------+------+\n",
      "|label|     0|     1|\n",
      "+-----+------+------+\n",
      "|    1|   241|153824|\n",
      "|    0|589865|   217|\n",
      "+-----+------+------+\n",
      "\n"
     ]
    },
    {
     "name": "stderr",
     "output_type": "stream",
     "text": [
      "                                                                                \r"
     ]
    }
   ],
   "source": [
    "# Agrupar por rótulos reais e previsões e contar o número de ocorrências\n",
    "confusion_matrix_nb = pred_nb.groupBy('label', 'prediction').count()\n",
    "\n",
    "# Para visualizar a matriz de confusão como um DataFrame\n",
    "confusion_matrix_nb.show()\n",
    "\n",
    "# Para uma melhor visualização e entendimento, você pode pivotar os dados\n",
    "# Isso é útil especialmente se você tem um número fixo de classes e deseja uma matriz quadrada\n",
    "confusion_matrix_pivot_nb = confusion_matrix_rf.groupBy('label').pivot('prediction', [0, 1]).sum('count')\\\n",
    "                                            .fillna(0) # substitui os NAs por 0 para casos onde não há previsões para uma classe\n",
    "\n",
    "confusion_matrix_pivot_nb.show()"
   ]
  },
  {
   "cell_type": "markdown",
   "metadata": {},
   "source": [
    "### Treinando e avaliando com Suport Vector Machines (SVM)"
   ]
  },
  {
   "cell_type": "code",
   "execution_count": 30,
   "metadata": {},
   "outputs": [
    {
     "name": "stderr",
     "output_type": "stream",
     "text": [
      "24/02/25 14:10:39 WARN InstanceBuilder: Failed to load implementation from:dev.ludovic.netlib.blas.JNIBLAS\n",
      "                                                                                \r"
     ]
    }
   ],
   "source": [
    "start_time_svm =  time.time()\n",
    "\n",
    "# create the trainer and set its parameters\n",
    "clf_svm = LinearSVC(featuresCol='features', labelCol='label', maxIter=10, regParam=0.1)\n",
    "\n",
    "# train the multiclass model.\n",
    "model_svm = clf_svm.fit(trainingData)\n",
    "\n",
    "# score the model on test data.\n",
    "pred_svm = model_svm.transform(testData)"
   ]
  },
  {
   "cell_type": "code",
   "execution_count": 31,
   "metadata": {},
   "outputs": [
    {
     "name": "stderr",
     "output_type": "stream",
     "text": [
      "[Stage 172:====================================>                  (16 + 8) / 24]\r"
     ]
    },
    {
     "name": "stdout",
     "output_type": "stream",
     "text": [
      "==============================================\n",
      "========== Sumário da Avaliação SVM ==========\n",
      "Acurácia = 99.14 %\n",
      "Precisão = 99.15 %\n",
      "Recall = 99.77 %\n",
      "F1-Score = 99.13 %\n",
      "Curva ROC = 99.14 %\n",
      "Tempo de Execução = 554.215 s\n",
      "==============================================\n"
     ]
    },
    {
     "name": "stderr",
     "output_type": "stream",
     "text": [
      "                                                                                \r"
     ]
    }
   ],
   "source": [
    "# Compute accuracy on the test set against model and select (prediction, true label) and compute test error\n",
    "eval_accuracy_svm = MulticlassClassificationEvaluator(labelCol=\"label\", predictionCol=\"prediction\", metricName=\"accuracy\")\n",
    "eval_precision_svm = MulticlassClassificationEvaluator(labelCol=\"label\", predictionCol=\"prediction\", metricName=\"precisionByLabel\")\n",
    "eval_recall_svm = MulticlassClassificationEvaluator(labelCol=\"label\", predictionCol=\"prediction\", metricName=\"recallByLabel\")\n",
    "eval_f1_svm = MulticlassClassificationEvaluator(labelCol=\"label\", predictionCol=\"prediction\", metricName=\"f1\")\n",
    "eval_auc_svm = BinaryClassificationEvaluator(labelCol=\"label\", rawPredictionCol=\"prediction\")\n",
    "\n",
    "accuracy_svm = eval_accuracy_svm.evaluate(pred_svm) * 100\n",
    "precision_svm = eval_precision_svm.evaluate(pred_svm) * 100\n",
    "recall_svm = eval_recall_svm.evaluate(pred_svm) * 100\n",
    "f1score_svm = eval_f1_svm.evaluate(pred_svm) * 100\n",
    "auc_svm = eval_accuracy_svm.evaluate(pred_svm) * 100\n",
    "\n",
    "dic[\"SVM\"]  = accuracy_svm\n",
    "time_svm = time.time() - start_time_svm\n",
    "\n",
    "print(\"==============================================\")\n",
    "print(\"========== Sumário da Avaliação SVM ==========\")\n",
    "print(\"Acurácia = %3.2f %%\" % accuracy_svm)\n",
    "print(\"Precisão = %3.2f %%\" % precision_svm)\n",
    "print(\"Recall = %3.2f %%\" % recall_svm)\n",
    "print(\"F1-Score = %3.2f %%\" % f1score_svm)\n",
    "print(\"Curva ROC = %3.2f %%\" % auc_svm)\n",
    "print(\"Tempo de Execução = %3.3f s\" % time_svm)\n",
    "print(\"==============================================\")\n",
    "# https://www.kaggle.com/code/shrutimechlearn/pyspark-part-3-classification-modelling-dtree\n",
    "# https://spark.apache.org/docs/latest/ml-classification-regression.html#linear-support-vector-machine\n",
    "# https://spark.apache.org/docs/2.2.0/mllib-evaluation-metrics.html"
   ]
  },
  {
   "cell_type": "code",
   "execution_count": 32,
   "metadata": {},
   "outputs": [
    {
     "name": "stdout",
     "output_type": "stream",
     "text": [
      "================================================================================\n",
      "=========================  Compare Algorithm and Time ==========================\n",
      "\n",
      "Técnicas               Acurácia  Precisão  Recall   F1-Score   ROC      Tempo\n",
      "Decision Tree:         99.947%   99.960%   99.973%  99.947%    99.947%  32.111s\n",
      "Random Forest:         99.938%   99.959%   99.963%  99.938%    99.938%  31.200s\n",
      "Naive Bayes:           81.281%   80.905%   99.993%  74.554%    81.281%  61.922s\n",
      "SVM:                   99.139%   99.147%   99.772%  99.135%    99.139%  554.215s\n",
      "================================================================================\n"
     ]
    }
   ],
   "source": [
    "print(\"================================================================================\")\n",
    "print(\"=========================  Compare Algorithm and Time ==========================\")\n",
    "print()\n",
    "print(\"Técnicas               Acurácia  Precisão  Recall   F1-Score   ROC      Tempo\")\n",
    "print(\"Decision Tree:         %3.3f%%   %3.3f%%   %3.3f%%  %3.3f%%    %3.3f%%  %3.3fs\" % (accuracy_dt, precision_dt, recall_dt, f1score_dt, auc_dt, time_dt))\n",
    "print(\"Random Forest:         %3.3f%%   %3.3f%%   %3.3f%%  %3.3f%%    %3.3f%%  %3.3fs\" % (accuracy_rf, precision_rf, recall_rf, f1score_rf, auc_rf, time_rf))\n",
    "print(\"Naive Bayes:           %3.3f%%   %3.3f%%   %3.3f%%  %3.3f%%    %3.3f%%  %3.3fs\" % (accuracy_nb, precision_nb, recall_nb, f1score_nb, auc_nb, time_nb))\n",
    "print(\"SVM:                   %3.3f%%   %3.3f%%   %3.3f%%  %3.3f%%    %3.3f%%  %3.3fs\" % (accuracy_svm,precision_svm,recall_svm,f1score_svm,auc_svm,time_svm))\n",
    "print(\"================================================================================\")"
   ]
  },
  {
   "cell_type": "code",
   "execution_count": 33,
   "metadata": {},
   "outputs": [
    {
     "data": {
      "text/plain": [
       "Árvore de\\nDecisão    99.946785\n",
       "Random\\nForest        99.938453\n",
       "Naive\\nBayes          81.280715\n",
       "SVM                   99.138745\n",
       "Name: Acurácia, dtype: float64"
      ]
     },
     "execution_count": 33,
     "metadata": {},
     "output_type": "execute_result"
    }
   ],
   "source": [
    "validation = pd.Series(dic, name=\"Acurácia\")\n",
    "validation"
   ]
  },
  {
   "cell_type": "code",
   "execution_count": 34,
   "metadata": {},
   "outputs": [
    {
     "data": {
      "text/plain": [
       "[Text(0, 0, '99.9468'),\n",
       " Text(0, 0, '99.9385'),\n",
       " Text(0, 0, '81.2807'),\n",
       " Text(0, 0, '99.1387')]"
      ]
     },
     "execution_count": 34,
     "metadata": {},
     "output_type": "execute_result"
    },
    {
     "data": {
      "image/png": "[encoded data removed]",
      "text/plain": [
       "<Figure size 640x480 with 1 Axes>"
      ]
     },
     "metadata": {},
     "output_type": "display_data"
    }
   ],
   "source": [
    "classificadores = dic.keys()\n",
    "acc = dic.values()\n",
    "\n",
    "fig, ax = plt.subplots()\n",
    "bar_container = ax.bar(classificadores, acc)\n",
    "#ax.set(ylabel='Acurácia', xlabel='Classificadores', title='Acurácia dos Classificadores', ylim=(0, 1.1))\n",
    "ax.set(ylabel='Acurácia', xlabel='Classificadores', title='Acurácia dos Classificadores')\n",
    "ax.bar_label(bar_container, fmt='{:,.4f}')"
   ]
  },
  {
   "cell_type": "code",
   "execution_count": 35,
   "metadata": {},
   "outputs": [
    {
     "name": "stdout",
     "output_type": "stream",
     "text": [
      "--- Tempo de execução: 715.00 segundos ---\n"
     ]
    }
   ],
   "source": [
    "# Contabiliza o tempo de execução do algoritmo\n",
    "tempo_total = (time.time() - start_time)\n",
    "print(f'--- Tempo de execução: {tempo_total:.2f} segundos ---')"
   ]
  },
  {
   "cell_type": "code",
   "execution_count": 36,
   "metadata": {},
   "outputs": [],
   "source": [
    "# Stop Spark session\n",
    "spark.stop()"
   ]
  }
 ],
 "metadata": {
  "colab": {
   "name": "30X40_ABAOCPMeasure-SVM-wine.ipynb",
   "provenance": [],
   "toc_visible": true
  },
  "kernelspec": {
   "display_name": "Python 3 (ipykernel)",
   "language": "python",
   "name": "python3"
  },
  "language_info": {
   "codemirror_mode": {
    "name": "ipython",
    "version": 3
   },
   "file_extension": ".py",
   "mimetype": "text/x-python",
   "name": "python",
   "nbconvert_exporter": "python",
   "pygments_lexer": "ipython3",
   "version": "3.9.18"
  }
 },
 "nbformat": 4,
 "nbformat_minor": 4
}
