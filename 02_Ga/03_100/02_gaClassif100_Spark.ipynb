{
 "cells": [
  {
   "cell_type": "markdown",
   "metadata": {},
   "source": [
    "# <center> The D-ACO/GA Project <br>\n",
    "## <center> (Digital - Ant Colony Optimization/Genetic Algorithm)\n",
    "### <center> Classification with Spark\n",
    "#### <center> Dataset NBaIoT"
   ]
  },
  {
   "cell_type": "code",
   "execution_count": 1,
   "metadata": {},
   "outputs": [],
   "source": [
    "import findspark\n",
    "findspark.init()"
   ]
  },
  {
   "cell_type": "code",
   "execution_count": 2,
   "metadata": {
    "colab": {},
    "colab_type": "code",
    "id": "hfomCy9dDbMk"
   },
   "outputs": [
    {
     "data": {
      "text/html": [
       "<style>pre { white-space: pre !important; }</style>"
      ],
      "text/plain": [
       "<IPython.core.display.HTML object>"
      ]
     },
     "metadata": {},
     "output_type": "display_data"
    }
   ],
   "source": [
    "# Importação de modulos Python\n",
    "import os\n",
    "import time\n",
    "from datetime import datetime\n",
    "\n",
    "import pandas as pd\n",
    "\n",
    "from IPython.core.display import HTML\n",
    "display(HTML(\"<style>pre { white-space: pre !important; }</style>\"))\n",
    "\n",
    "os.environ[\"PYARROW_IGNORE_TIMEZONE\"] = \"1\""
   ]
  },
  {
   "cell_type": "code",
   "execution_count": 3,
   "metadata": {},
   "outputs": [],
   "source": [
    "from pyspark.sql import SparkSession\n",
    "from pyspark import SparkContext, SparkConf\n",
    "\n",
    "import pyspark.pandas as ps\n",
    "from pyspark.ml import feature\n",
    "\n",
    "from pyspark.ml.feature import VectorAssembler\n",
    "\n",
    "from pyspark.ml.classification import NaiveBayes\n",
    "from pyspark.ml.classification import LinearSVC\n",
    "from pyspark.ml.classification import RandomForestClassifier\n",
    "from pyspark.ml.classification import DecisionTreeClassifier\n",
    "from pyspark.ml.classification import MultilayerPerceptronClassifier\n",
    "\n",
    "from pyspark.ml.evaluation import BinaryClassificationEvaluator\n",
    "from pyspark.ml.evaluation import MulticlassClassificationEvaluator"
   ]
  },
  {
   "cell_type": "code",
   "execution_count": 4,
   "metadata": {},
   "outputs": [],
   "source": [
    "# Importação das bibliotecas Graficas\n",
    "import scikitplot as skplt\n",
    "import matplotlib.pyplot as plt\n",
    "\n",
    "# Exibe gráficos na página (inline)\n",
    "%matplotlib inline"
   ]
  },
  {
   "cell_type": "code",
   "execution_count": 5,
   "metadata": {},
   "outputs": [],
   "source": [
    "import warnings\n",
    "warnings.filterwarnings('ignore')"
   ]
  },
  {
   "cell_type": "markdown",
   "metadata": {},
   "source": [
    "## Classificação e Avaliação - Apache Spark"
   ]
  },
  {
   "cell_type": "code",
   "execution_count": 6,
   "metadata": {},
   "outputs": [
    {
     "name": "stderr",
     "output_type": "stream",
     "text": [
      "24/02/25 15:13:49 WARN SparkSession: Using an existing Spark session; only runtime SQL configurations will take effect.\n"
     ]
    }
   ],
   "source": [
    "spark = SparkSession.builder\\\n",
    "       .appName(\"D-ACO/IDS_SPARK\")\\\n",
    "       .master(\"spark://192.168.1.20:7077\") \\\n",
    "       .getOrCreate()"
   ]
  },
  {
   "cell_type": "markdown",
   "metadata": {},
   "source": [
    "## Seleção e Apresentação do Dataset"
   ]
  },
  {
   "cell_type": "code",
   "execution_count": 7,
   "metadata": {},
   "outputs": [
    {
     "name": "stderr",
     "output_type": "stream",
     "text": [
      "                                                                                \r"
     ]
    },
    {
     "data": {
      "text/html": [
       "<div>\n",
       "<style scoped>\n",
       "    .dataframe tbody tr th:only-of-type {\n",
       "        vertical-align: middle;\n",
       "    }\n",
       "\n",
       "    .dataframe tbody tr th {\n",
       "        vertical-align: top;\n",
       "    }\n",
       "\n",
       "    .dataframe thead th {\n",
       "        text-align: right;\n",
       "    }\n",
       "</style>\n",
       "<table border=\"1\" class=\"dataframe\">\n",
       "  <thead>\n",
       "    <tr style=\"text-align: right;\">\n",
       "      <th></th>\n",
       "      <th>MI_dir_L3_weight</th>\n",
       "      <th>MI_dir_L3_variance</th>\n",
       "      <th>MI_dir_L0_1_mean</th>\n",
       "      <th>MI_dir_L0_1_variance</th>\n",
       "      <th>MI_dir_L0_01_weight</th>\n",
       "      <th>MI_dir_L0_01_mean</th>\n",
       "      <th>H_L5_weight</th>\n",
       "      <th>H_L5_variance</th>\n",
       "      <th>H_L3_weight</th>\n",
       "      <th>H_L3_mean</th>\n",
       "      <th>H_L3_variance</th>\n",
       "      <th>H_L1_weight</th>\n",
       "      <th>H_L1_variance</th>\n",
       "      <th>H_L0_1_weight</th>\n",
       "      <th>H_L0_1_variance</th>\n",
       "      <th>HH_L5_weight</th>\n",
       "      <th>HH_L5_std</th>\n",
       "      <th>HH_L5_magnitude</th>\n",
       "      <th>HH_L5_covariance</th>\n",
       "      <th>HH_L5_pcc</th>\n",
       "      <th>HH_L3_weight</th>\n",
       "      <th>HH_L3_magnitude</th>\n",
       "      <th>HH_L3_covariance</th>\n",
       "      <th>HH_L3_pcc</th>\n",
       "      <th>HH_L1_magnitude</th>\n",
       "      <th>HH_L1_radius</th>\n",
       "      <th>HH_L0_1_weight</th>\n",
       "      <th>HH_L0_1_magnitude</th>\n",
       "      <th>HH_L0_01_mean</th>\n",
       "      <th>HH_L0_01_std</th>\n",
       "      <th>HH_L0_01_magnitude</th>\n",
       "      <th>HH_L0_01_radius</th>\n",
       "      <th>HH_jit_L5_mean</th>\n",
       "      <th>HH_jit_L5_variance</th>\n",
       "      <th>HH_jit_L3_mean</th>\n",
       "      <th>HH_jit_L1_variance</th>\n",
       "      <th>HH_jit_L0_1_weight</th>\n",
       "      <th>HH_jit_L0_1_mean</th>\n",
       "      <th>HH_jit_L0_01_mean</th>\n",
       "      <th>HpHp_L5_radius</th>\n",
       "      <th>HpHp_L5_covariance</th>\n",
       "      <th>HpHp_L5_pcc</th>\n",
       "      <th>HpHp_L3_magnitude</th>\n",
       "      <th>HpHp_L3_covariance</th>\n",
       "      <th>HpHp_L1_mean</th>\n",
       "      <th>HpHp_L1_std</th>\n",
       "      <th>HpHp_L1_covariance</th>\n",
       "      <th>HpHp_L0_1_std</th>\n",
       "      <th>HpHp_L0_1_radius</th>\n",
       "      <th>HpHp_L0_1_pcc</th>\n",
       "      <th>HpHp_L0_01_weight</th>\n",
       "      <th>HpHp_L0_01_std</th>\n",
       "      <th>label</th>\n",
       "    </tr>\n",
       "  </thead>\n",
       "  <tbody>\n",
       "    <tr>\n",
       "      <th>0</th>\n",
       "      <td>136.140165</td>\n",
       "      <td>57395.127337</td>\n",
       "      <td>334.618741</td>\n",
       "      <td>63520.590911</td>\n",
       "      <td>15639.792358</td>\n",
       "      <td>335.620212</td>\n",
       "      <td>102.845561</td>\n",
       "      <td>5.059634e+04</td>\n",
       "      <td>136.140165</td>\n",
       "      <td>231.720797</td>\n",
       "      <td>57395.127337</td>\n",
       "      <td>257.292295</td>\n",
       "      <td>63686.236834</td>\n",
       "      <td>3115.625242</td>\n",
       "      <td>63520.590911</td>\n",
       "      <td>1.000000</td>\n",
       "      <td>0.000000</td>\n",
       "      <td>60.0</td>\n",
       "      <td>0.0</td>\n",
       "      <td>0.0</td>\n",
       "      <td>1.000000</td>\n",
       "      <td>60.0</td>\n",
       "      <td>0.0</td>\n",
       "      <td>0.0</td>\n",
       "      <td>60.0000</td>\n",
       "      <td>0.000000e+00</td>\n",
       "      <td>1.000000</td>\n",
       "      <td>60.000000</td>\n",
       "      <td>60.000000</td>\n",
       "      <td>0.000000e+00</td>\n",
       "      <td>60.000000</td>\n",
       "      <td>0.000000e+00</td>\n",
       "      <td>1.507658e+09</td>\n",
       "      <td>0.000000</td>\n",
       "      <td>1.507658e+09</td>\n",
       "      <td>0.000000</td>\n",
       "      <td>1.000000</td>\n",
       "      <td>1.507658e+09</td>\n",
       "      <td>1.507658e+09</td>\n",
       "      <td>0.0</td>\n",
       "      <td>0.0</td>\n",
       "      <td>0.0</td>\n",
       "      <td>60.0</td>\n",
       "      <td>0.0</td>\n",
       "      <td>60.0</td>\n",
       "      <td>0.0</td>\n",
       "      <td>0.0</td>\n",
       "      <td>0.000000</td>\n",
       "      <td>0.000000e+00</td>\n",
       "      <td>0.0</td>\n",
       "      <td>1.000000</td>\n",
       "      <td>0.000000</td>\n",
       "      <td>0</td>\n",
       "    </tr>\n",
       "    <tr>\n",
       "      <th>1</th>\n",
       "      <td>216.350414</td>\n",
       "      <td>45.873516</td>\n",
       "      <td>69.439350</td>\n",
       "      <td>43.127894</td>\n",
       "      <td>29217.179583</td>\n",
       "      <td>69.380435</td>\n",
       "      <td>131.083524</td>\n",
       "      <td>4.867558e+01</td>\n",
       "      <td>216.350414</td>\n",
       "      <td>68.768196</td>\n",
       "      <td>45.873516</td>\n",
       "      <td>667.176854</td>\n",
       "      <td>42.867384</td>\n",
       "      <td>6684.153422</td>\n",
       "      <td>43.127894</td>\n",
       "      <td>1.000000</td>\n",
       "      <td>0.000000</td>\n",
       "      <td>60.0</td>\n",
       "      <td>0.0</td>\n",
       "      <td>0.0</td>\n",
       "      <td>1.000000</td>\n",
       "      <td>60.0</td>\n",
       "      <td>0.0</td>\n",
       "      <td>0.0</td>\n",
       "      <td>60.0000</td>\n",
       "      <td>0.000000e+00</td>\n",
       "      <td>1.000000</td>\n",
       "      <td>60.000000</td>\n",
       "      <td>60.000000</td>\n",
       "      <td>0.000000e+00</td>\n",
       "      <td>60.000000</td>\n",
       "      <td>0.000000e+00</td>\n",
       "      <td>1.507657e+09</td>\n",
       "      <td>0.000000</td>\n",
       "      <td>1.507657e+09</td>\n",
       "      <td>0.000000</td>\n",
       "      <td>1.000000</td>\n",
       "      <td>1.507657e+09</td>\n",
       "      <td>1.507657e+09</td>\n",
       "      <td>0.0</td>\n",
       "      <td>0.0</td>\n",
       "      <td>0.0</td>\n",
       "      <td>60.0</td>\n",
       "      <td>0.0</td>\n",
       "      <td>60.0</td>\n",
       "      <td>0.0</td>\n",
       "      <td>0.0</td>\n",
       "      <td>0.000000</td>\n",
       "      <td>0.000000e+00</td>\n",
       "      <td>0.0</td>\n",
       "      <td>1.000000</td>\n",
       "      <td>0.000000</td>\n",
       "      <td>0</td>\n",
       "    </tr>\n",
       "    <tr>\n",
       "      <th>2</th>\n",
       "      <td>240.584313</td>\n",
       "      <td>56327.616925</td>\n",
       "      <td>341.306889</td>\n",
       "      <td>59809.003237</td>\n",
       "      <td>33084.034136</td>\n",
       "      <td>341.878436</td>\n",
       "      <td>169.499177</td>\n",
       "      <td>5.236953e+04</td>\n",
       "      <td>240.584313</td>\n",
       "      <td>375.260774</td>\n",
       "      <td>56327.616925</td>\n",
       "      <td>485.329427</td>\n",
       "      <td>59074.194845</td>\n",
       "      <td>3802.324281</td>\n",
       "      <td>59809.003237</td>\n",
       "      <td>116.604833</td>\n",
       "      <td>0.000013</td>\n",
       "      <td>554.0</td>\n",
       "      <td>0.0</td>\n",
       "      <td>0.0</td>\n",
       "      <td>153.513615</td>\n",
       "      <td>554.0</td>\n",
       "      <td>0.0</td>\n",
       "      <td>0.0</td>\n",
       "      <td>553.9992</td>\n",
       "      <td>3.949556e-01</td>\n",
       "      <td>2165.489329</td>\n",
       "      <td>553.854057</td>\n",
       "      <td>553.816894</td>\n",
       "      <td>9.508991e+00</td>\n",
       "      <td>553.816894</td>\n",
       "      <td>9.042092e+01</td>\n",
       "      <td>2.818989e-03</td>\n",
       "      <td>0.000249</td>\n",
       "      <td>3.551617e-03</td>\n",
       "      <td>0.001044</td>\n",
       "      <td>2165.489329</td>\n",
       "      <td>1.762503e-02</td>\n",
       "      <td>1.323913e+04</td>\n",
       "      <td>0.0</td>\n",
       "      <td>0.0</td>\n",
       "      <td>0.0</td>\n",
       "      <td>554.0</td>\n",
       "      <td>0.0</td>\n",
       "      <td>554.0</td>\n",
       "      <td>0.0</td>\n",
       "      <td>0.0</td>\n",
       "      <td>0.000000</td>\n",
       "      <td>0.000000e+00</td>\n",
       "      <td>0.0</td>\n",
       "      <td>1.000000</td>\n",
       "      <td>0.000000</td>\n",
       "      <td>0</td>\n",
       "    </tr>\n",
       "    <tr>\n",
       "      <th>3</th>\n",
       "      <td>90.055691</td>\n",
       "      <td>4.122127</td>\n",
       "      <td>60.115786</td>\n",
       "      <td>2.018709</td>\n",
       "      <td>19946.169232</td>\n",
       "      <td>60.098659</td>\n",
       "      <td>66.660728</td>\n",
       "      <td>3.097987e+00</td>\n",
       "      <td>90.055691</td>\n",
       "      <td>60.188445</td>\n",
       "      <td>4.122127</td>\n",
       "      <td>216.098300</td>\n",
       "      <td>3.770803</td>\n",
       "      <td>2011.407214</td>\n",
       "      <td>2.018709</td>\n",
       "      <td>1.000000</td>\n",
       "      <td>0.000000</td>\n",
       "      <td>60.0</td>\n",
       "      <td>0.0</td>\n",
       "      <td>0.0</td>\n",
       "      <td>1.000000</td>\n",
       "      <td>60.0</td>\n",
       "      <td>0.0</td>\n",
       "      <td>0.0</td>\n",
       "      <td>60.0000</td>\n",
       "      <td>0.000000e+00</td>\n",
       "      <td>1.000000</td>\n",
       "      <td>60.000000</td>\n",
       "      <td>60.000000</td>\n",
       "      <td>0.000000e+00</td>\n",
       "      <td>60.000000</td>\n",
       "      <td>0.000000e+00</td>\n",
       "      <td>1.507654e+09</td>\n",
       "      <td>0.000000</td>\n",
       "      <td>1.507654e+09</td>\n",
       "      <td>0.000000</td>\n",
       "      <td>1.000000</td>\n",
       "      <td>1.507654e+09</td>\n",
       "      <td>1.507654e+09</td>\n",
       "      <td>0.0</td>\n",
       "      <td>0.0</td>\n",
       "      <td>0.0</td>\n",
       "      <td>60.0</td>\n",
       "      <td>0.0</td>\n",
       "      <td>60.0</td>\n",
       "      <td>0.0</td>\n",
       "      <td>0.0</td>\n",
       "      <td>0.000000</td>\n",
       "      <td>0.000000e+00</td>\n",
       "      <td>0.0</td>\n",
       "      <td>1.000000</td>\n",
       "      <td>0.000000</td>\n",
       "      <td>0</td>\n",
       "    </tr>\n",
       "    <tr>\n",
       "      <th>4</th>\n",
       "      <td>1.253320</td>\n",
       "      <td>0.000000</td>\n",
       "      <td>123.590500</td>\n",
       "      <td>29646.295000</td>\n",
       "      <td>143.852278</td>\n",
       "      <td>131.428446</td>\n",
       "      <td>1.062896</td>\n",
       "      <td>9.090000e-13</td>\n",
       "      <td>1.253320</td>\n",
       "      <td>74.000000</td>\n",
       "      <td>0.000000</td>\n",
       "      <td>2.305204</td>\n",
       "      <td>0.042093</td>\n",
       "      <td>32.569167</td>\n",
       "      <td>29646.295000</td>\n",
       "      <td>1.062896</td>\n",
       "      <td>0.000000</td>\n",
       "      <td>74.0</td>\n",
       "      <td>0.0</td>\n",
       "      <td>0.0</td>\n",
       "      <td>1.253313</td>\n",
       "      <td>74.0</td>\n",
       "      <td>0.0</td>\n",
       "      <td>0.0</td>\n",
       "      <td>74.0000</td>\n",
       "      <td>1.820000e-12</td>\n",
       "      <td>13.453078</td>\n",
       "      <td>74.000000</td>\n",
       "      <td>74.000000</td>\n",
       "      <td>9.540000e-07</td>\n",
       "      <td>74.000000</td>\n",
       "      <td>9.090000e-13</td>\n",
       "      <td>9.964400e-01</td>\n",
       "      <td>0.058909</td>\n",
       "      <td>9.967851e-01</td>\n",
       "      <td>0.497766</td>\n",
       "      <td>13.453078</td>\n",
       "      <td>1.060831e+01</td>\n",
       "      <td>4.625443e+01</td>\n",
       "      <td>0.0</td>\n",
       "      <td>0.0</td>\n",
       "      <td>0.0</td>\n",
       "      <td>74.0</td>\n",
       "      <td>0.0</td>\n",
       "      <td>74.0</td>\n",
       "      <td>0.0</td>\n",
       "      <td>0.0</td>\n",
       "      <td>0.000001</td>\n",
       "      <td>1.820000e-12</td>\n",
       "      <td>0.0</td>\n",
       "      <td>1.993117</td>\n",
       "      <td>0.000001</td>\n",
       "      <td>1</td>\n",
       "    </tr>\n",
       "  </tbody>\n",
       "</table>\n",
       "</div>"
      ],
      "text/plain": [
       "   MI_dir_L3_weight  MI_dir_L3_variance  MI_dir_L0_1_mean  MI_dir_L0_1_variance  MI_dir_L0_01_weight  MI_dir_L0_01_mean  H_L5_weight  H_L5_variance  H_L3_weight   H_L3_mean  H_L3_variance  H_L1_weight  H_L1_variance  H_L0_1_weight  H_L0_1_variance  HH_L5_weight  HH_L5_std  HH_L5_magnitude  HH_L5_covariance  HH_L5_pcc  HH_L3_weight  HH_L3_magnitude  HH_L3_covariance  HH_L3_pcc  HH_L1_magnitude  HH_L1_radius  HH_L0_1_weight  HH_L0_1_magnitude  HH_L0_01_mean  HH_L0_01_std  HH_L0_01_magnitude  HH_L0_01_radius  HH_jit_L5_mean  HH_jit_L5_variance  HH_jit_L3_mean  HH_jit_L1_variance  HH_jit_L0_1_weight  HH_jit_L0_1_mean  HH_jit_L0_01_mean  HpHp_L5_radius  HpHp_L5_covariance  HpHp_L5_pcc  HpHp_L3_magnitude  HpHp_L3_covariance  HpHp_L1_mean  HpHp_L1_std  HpHp_L1_covariance  HpHp_L0_1_std  HpHp_L0_1_radius  HpHp_L0_1_pcc  HpHp_L0_01_weight  HpHp_L0_01_std  label\n",
       "0        136.140165        57395.127337        334.618741          63520.590911         15639.792358         335.620212   102.845561   5.059634e+04   136.140165  231.720797   57395.127337   257.292295   63686.236834    3115.625242     63520.590911      1.000000   0.000000             60.0               0.0        0.0      1.000000             60.0               0.0        0.0          60.0000  0.000000e+00        1.000000          60.000000      60.000000  0.000000e+00           60.000000     0.000000e+00    1.507658e+09            0.000000    1.507658e+09            0.000000            1.000000      1.507658e+09       1.507658e+09             0.0                 0.0          0.0               60.0                 0.0          60.0          0.0                 0.0       0.000000      0.000000e+00            0.0           1.000000        0.000000      0\n",
       "1        216.350414           45.873516         69.439350             43.127894         29217.179583          69.380435   131.083524   4.867558e+01   216.350414   68.768196      45.873516   667.176854      42.867384    6684.153422        43.127894      1.000000   0.000000             60.0               0.0        0.0      1.000000             60.0               0.0        0.0          60.0000  0.000000e+00        1.000000          60.000000      60.000000  0.000000e+00           60.000000     0.000000e+00    1.507657e+09            0.000000    1.507657e+09            0.000000            1.000000      1.507657e+09       1.507657e+09             0.0                 0.0          0.0               60.0                 0.0          60.0          0.0                 0.0       0.000000      0.000000e+00            0.0           1.000000        0.000000      0\n",
       "2        240.584313        56327.616925        341.306889          59809.003237         33084.034136         341.878436   169.499177   5.236953e+04   240.584313  375.260774   56327.616925   485.329427   59074.194845    3802.324281     59809.003237    116.604833   0.000013            554.0               0.0        0.0    153.513615            554.0               0.0        0.0         553.9992  3.949556e-01     2165.489329         553.854057     553.816894  9.508991e+00          553.816894     9.042092e+01    2.818989e-03            0.000249    3.551617e-03            0.001044         2165.489329      1.762503e-02       1.323913e+04             0.0                 0.0          0.0              554.0                 0.0         554.0          0.0                 0.0       0.000000      0.000000e+00            0.0           1.000000        0.000000      0\n",
       "3         90.055691            4.122127         60.115786              2.018709         19946.169232          60.098659    66.660728   3.097987e+00    90.055691   60.188445       4.122127   216.098300       3.770803    2011.407214         2.018709      1.000000   0.000000             60.0               0.0        0.0      1.000000             60.0               0.0        0.0          60.0000  0.000000e+00        1.000000          60.000000      60.000000  0.000000e+00           60.000000     0.000000e+00    1.507654e+09            0.000000    1.507654e+09            0.000000            1.000000      1.507654e+09       1.507654e+09             0.0                 0.0          0.0               60.0                 0.0          60.0          0.0                 0.0       0.000000      0.000000e+00            0.0           1.000000        0.000000      0\n",
       "4          1.253320            0.000000        123.590500          29646.295000           143.852278         131.428446     1.062896   9.090000e-13     1.253320   74.000000       0.000000     2.305204       0.042093      32.569167     29646.295000      1.062896   0.000000             74.0               0.0        0.0      1.253313             74.0               0.0        0.0          74.0000  1.820000e-12       13.453078          74.000000      74.000000  9.540000e-07           74.000000     9.090000e-13    9.964400e-01            0.058909    9.967851e-01            0.497766           13.453078      1.060831e+01       4.625443e+01             0.0                 0.0          0.0               74.0                 0.0          74.0          0.0                 0.0       0.000001      1.820000e-12            0.0           1.993117        0.000001      1"
      ]
     },
     "execution_count": 7,
     "metadata": {},
     "output_type": "execute_result"
    }
   ],
   "source": [
    "dfTrain = ps.read_csv('../../../../../datasets/dacoga/nbaiot/bestsub/NBaIoT100Train_GA_2024_02_25_08_25_00_selected.csv')\n",
    "dfTrain.head()"
   ]
  },
  {
   "cell_type": "code",
   "execution_count": 8,
   "metadata": {},
   "outputs": [
    {
     "name": "stderr",
     "output_type": "stream",
     "text": [
      "                                                                                \r"
     ]
    },
    {
     "data": {
      "text/html": [
       "<div>\n",
       "<style scoped>\n",
       "    .dataframe tbody tr th:only-of-type {\n",
       "        vertical-align: middle;\n",
       "    }\n",
       "\n",
       "    .dataframe tbody tr th {\n",
       "        vertical-align: top;\n",
       "    }\n",
       "\n",
       "    .dataframe thead th {\n",
       "        text-align: right;\n",
       "    }\n",
       "</style>\n",
       "<table border=\"1\" class=\"dataframe\">\n",
       "  <thead>\n",
       "    <tr style=\"text-align: right;\">\n",
       "      <th></th>\n",
       "      <th>MI_dir_L3_weight</th>\n",
       "      <th>MI_dir_L3_variance</th>\n",
       "      <th>MI_dir_L0_1_mean</th>\n",
       "      <th>MI_dir_L0_1_variance</th>\n",
       "      <th>MI_dir_L0_01_weight</th>\n",
       "      <th>MI_dir_L0_01_mean</th>\n",
       "      <th>H_L5_weight</th>\n",
       "      <th>H_L5_variance</th>\n",
       "      <th>H_L3_weight</th>\n",
       "      <th>H_L3_mean</th>\n",
       "      <th>H_L3_variance</th>\n",
       "      <th>H_L1_weight</th>\n",
       "      <th>H_L1_variance</th>\n",
       "      <th>H_L0_1_weight</th>\n",
       "      <th>H_L0_1_variance</th>\n",
       "      <th>HH_L5_weight</th>\n",
       "      <th>HH_L5_std</th>\n",
       "      <th>HH_L5_magnitude</th>\n",
       "      <th>HH_L5_covariance</th>\n",
       "      <th>HH_L5_pcc</th>\n",
       "      <th>HH_L3_weight</th>\n",
       "      <th>HH_L3_magnitude</th>\n",
       "      <th>HH_L3_covariance</th>\n",
       "      <th>HH_L3_pcc</th>\n",
       "      <th>HH_L1_magnitude</th>\n",
       "      <th>HH_L1_radius</th>\n",
       "      <th>HH_L0_1_weight</th>\n",
       "      <th>HH_L0_1_magnitude</th>\n",
       "      <th>HH_L0_01_mean</th>\n",
       "      <th>HH_L0_01_std</th>\n",
       "      <th>HH_L0_01_magnitude</th>\n",
       "      <th>HH_L0_01_radius</th>\n",
       "      <th>HH_jit_L5_mean</th>\n",
       "      <th>HH_jit_L5_variance</th>\n",
       "      <th>HH_jit_L3_mean</th>\n",
       "      <th>HH_jit_L1_variance</th>\n",
       "      <th>HH_jit_L0_1_weight</th>\n",
       "      <th>HH_jit_L0_1_mean</th>\n",
       "      <th>HH_jit_L0_01_mean</th>\n",
       "      <th>HpHp_L5_radius</th>\n",
       "      <th>HpHp_L5_covariance</th>\n",
       "      <th>HpHp_L5_pcc</th>\n",
       "      <th>HpHp_L3_magnitude</th>\n",
       "      <th>HpHp_L3_covariance</th>\n",
       "      <th>HpHp_L1_mean</th>\n",
       "      <th>HpHp_L1_std</th>\n",
       "      <th>HpHp_L1_covariance</th>\n",
       "      <th>HpHp_L0_1_std</th>\n",
       "      <th>HpHp_L0_1_radius</th>\n",
       "      <th>HpHp_L0_1_pcc</th>\n",
       "      <th>HpHp_L0_01_weight</th>\n",
       "      <th>HpHp_L0_01_std</th>\n",
       "      <th>label</th>\n",
       "    </tr>\n",
       "  </thead>\n",
       "  <tbody>\n",
       "    <tr>\n",
       "      <th>0</th>\n",
       "      <td>136.671365</td>\n",
       "      <td>59723.823548</td>\n",
       "      <td>340.812082</td>\n",
       "      <td>59840.036542</td>\n",
       "      <td>32772.131597</td>\n",
       "      <td>341.840263</td>\n",
       "      <td>91.211324</td>\n",
       "      <td>56329.158936</td>\n",
       "      <td>136.671365</td>\n",
       "      <td>271.592486</td>\n",
       "      <td>59723.823548</td>\n",
       "      <td>384.092631</td>\n",
       "      <td>60853.558076</td>\n",
       "      <td>3855.164044</td>\n",
       "      <td>59840.036542</td>\n",
       "      <td>1.000000</td>\n",
       "      <td>0.000000</td>\n",
       "      <td>60.0</td>\n",
       "      <td>0.0</td>\n",
       "      <td>0.0</td>\n",
       "      <td>1.000000</td>\n",
       "      <td>60.0</td>\n",
       "      <td>0.0</td>\n",
       "      <td>0.0</td>\n",
       "      <td>60.0</td>\n",
       "      <td>0.000000e+00</td>\n",
       "      <td>1.000000</td>\n",
       "      <td>60.000000</td>\n",
       "      <td>60.000000</td>\n",
       "      <td>0.000000</td>\n",
       "      <td>60.000000</td>\n",
       "      <td>0.000000</td>\n",
       "      <td>1.507656e+09</td>\n",
       "      <td>0.000000</td>\n",
       "      <td>1.507656e+09</td>\n",
       "      <td>0.000000</td>\n",
       "      <td>1.000000</td>\n",
       "      <td>1.507656e+09</td>\n",
       "      <td>1.507656e+09</td>\n",
       "      <td>0.000000e+00</td>\n",
       "      <td>0.0</td>\n",
       "      <td>0.0</td>\n",
       "      <td>60.0</td>\n",
       "      <td>0.0</td>\n",
       "      <td>60.0</td>\n",
       "      <td>0.000000</td>\n",
       "      <td>0.0</td>\n",
       "      <td>0.000000</td>\n",
       "      <td>0.000000e+00</td>\n",
       "      <td>0.0</td>\n",
       "      <td>1.000000</td>\n",
       "      <td>0.000000</td>\n",
       "      <td>0</td>\n",
       "    </tr>\n",
       "    <tr>\n",
       "      <th>1</th>\n",
       "      <td>173.128639</td>\n",
       "      <td>34137.160623</td>\n",
       "      <td>390.985044</td>\n",
       "      <td>57924.428871</td>\n",
       "      <td>51189.559431</td>\n",
       "      <td>391.294253</td>\n",
       "      <td>95.029757</td>\n",
       "      <td>16807.590281</td>\n",
       "      <td>173.128639</td>\n",
       "      <td>485.834404</td>\n",
       "      <td>34137.160623</td>\n",
       "      <td>578.800756</td>\n",
       "      <td>53062.651631</td>\n",
       "      <td>6183.451303</td>\n",
       "      <td>57924.428871</td>\n",
       "      <td>88.317358</td>\n",
       "      <td>0.000013</td>\n",
       "      <td>566.0</td>\n",
       "      <td>0.0</td>\n",
       "      <td>0.0</td>\n",
       "      <td>145.699788</td>\n",
       "      <td>566.0</td>\n",
       "      <td>0.0</td>\n",
       "      <td>0.0</td>\n",
       "      <td>566.0</td>\n",
       "      <td>5.238689e-10</td>\n",
       "      <td>4044.703405</td>\n",
       "      <td>565.993158</td>\n",
       "      <td>565.968119</td>\n",
       "      <td>4.016312</td>\n",
       "      <td>565.968119</td>\n",
       "      <td>16.130762</td>\n",
       "      <td>3.376842e-03</td>\n",
       "      <td>0.000055</td>\n",
       "      <td>3.379372e-03</td>\n",
       "      <td>0.000117</td>\n",
       "      <td>4044.703405</td>\n",
       "      <td>2.474174e-02</td>\n",
       "      <td>8.481503e+03</td>\n",
       "      <td>0.000000e+00</td>\n",
       "      <td>0.0</td>\n",
       "      <td>0.0</td>\n",
       "      <td>566.0</td>\n",
       "      <td>0.0</td>\n",
       "      <td>566.0</td>\n",
       "      <td>0.000000</td>\n",
       "      <td>0.0</td>\n",
       "      <td>0.000000</td>\n",
       "      <td>0.000000e+00</td>\n",
       "      <td>0.0</td>\n",
       "      <td>1.000000</td>\n",
       "      <td>0.000000</td>\n",
       "      <td>0</td>\n",
       "    </tr>\n",
       "    <tr>\n",
       "      <th>2</th>\n",
       "      <td>69.853763</td>\n",
       "      <td>4.072216</td>\n",
       "      <td>60.097664</td>\n",
       "      <td>1.736939</td>\n",
       "      <td>19790.553326</td>\n",
       "      <td>60.096115</td>\n",
       "      <td>51.828167</td>\n",
       "      <td>3.639609</td>\n",
       "      <td>69.853763</td>\n",
       "      <td>60.178884</td>\n",
       "      <td>4.072216</td>\n",
       "      <td>196.266931</td>\n",
       "      <td>2.612387</td>\n",
       "      <td>2007.014853</td>\n",
       "      <td>1.736939</td>\n",
       "      <td>1.000000</td>\n",
       "      <td>0.000000</td>\n",
       "      <td>60.0</td>\n",
       "      <td>0.0</td>\n",
       "      <td>0.0</td>\n",
       "      <td>1.000000</td>\n",
       "      <td>60.0</td>\n",
       "      <td>0.0</td>\n",
       "      <td>0.0</td>\n",
       "      <td>60.0</td>\n",
       "      <td>0.000000e+00</td>\n",
       "      <td>1.000000</td>\n",
       "      <td>60.000000</td>\n",
       "      <td>60.000000</td>\n",
       "      <td>0.000000</td>\n",
       "      <td>60.000000</td>\n",
       "      <td>0.000000</td>\n",
       "      <td>1.507654e+09</td>\n",
       "      <td>0.000000</td>\n",
       "      <td>1.507654e+09</td>\n",
       "      <td>0.000000</td>\n",
       "      <td>1.000000</td>\n",
       "      <td>1.507654e+09</td>\n",
       "      <td>1.507654e+09</td>\n",
       "      <td>0.000000e+00</td>\n",
       "      <td>0.0</td>\n",
       "      <td>0.0</td>\n",
       "      <td>60.0</td>\n",
       "      <td>0.0</td>\n",
       "      <td>60.0</td>\n",
       "      <td>0.000000</td>\n",
       "      <td>0.0</td>\n",
       "      <td>0.000000</td>\n",
       "      <td>0.000000e+00</td>\n",
       "      <td>0.0</td>\n",
       "      <td>1.000000</td>\n",
       "      <td>0.000000</td>\n",
       "      <td>0</td>\n",
       "    </tr>\n",
       "    <tr>\n",
       "      <th>3</th>\n",
       "      <td>136.713851</td>\n",
       "      <td>44912.104234</td>\n",
       "      <td>337.821252</td>\n",
       "      <td>60036.726634</td>\n",
       "      <td>10593.159382</td>\n",
       "      <td>344.609258</td>\n",
       "      <td>102.036581</td>\n",
       "      <td>36930.765509</td>\n",
       "      <td>136.713851</td>\n",
       "      <td>180.251616</td>\n",
       "      <td>44912.104234</td>\n",
       "      <td>338.369210</td>\n",
       "      <td>59860.066216</td>\n",
       "      <td>3680.360996</td>\n",
       "      <td>60036.726634</td>\n",
       "      <td>1.000000</td>\n",
       "      <td>0.000000</td>\n",
       "      <td>60.0</td>\n",
       "      <td>0.0</td>\n",
       "      <td>0.0</td>\n",
       "      <td>1.000000</td>\n",
       "      <td>60.0</td>\n",
       "      <td>0.0</td>\n",
       "      <td>0.0</td>\n",
       "      <td>60.0</td>\n",
       "      <td>0.000000e+00</td>\n",
       "      <td>1.000000</td>\n",
       "      <td>60.000000</td>\n",
       "      <td>60.000000</td>\n",
       "      <td>0.000000</td>\n",
       "      <td>60.000000</td>\n",
       "      <td>0.000000</td>\n",
       "      <td>1.507656e+09</td>\n",
       "      <td>0.000000</td>\n",
       "      <td>1.507656e+09</td>\n",
       "      <td>0.000000</td>\n",
       "      <td>1.000000</td>\n",
       "      <td>1.507656e+09</td>\n",
       "      <td>1.507656e+09</td>\n",
       "      <td>0.000000e+00</td>\n",
       "      <td>0.0</td>\n",
       "      <td>0.0</td>\n",
       "      <td>60.0</td>\n",
       "      <td>0.0</td>\n",
       "      <td>60.0</td>\n",
       "      <td>0.000000</td>\n",
       "      <td>0.0</td>\n",
       "      <td>0.000000</td>\n",
       "      <td>0.000000e+00</td>\n",
       "      <td>0.0</td>\n",
       "      <td>1.000000</td>\n",
       "      <td>0.000000</td>\n",
       "      <td>0</td>\n",
       "    </tr>\n",
       "    <tr>\n",
       "      <th>4</th>\n",
       "      <td>145.933664</td>\n",
       "      <td>56141.162620</td>\n",
       "      <td>336.375771</td>\n",
       "      <td>60140.845251</td>\n",
       "      <td>41710.317979</td>\n",
       "      <td>336.277714</td>\n",
       "      <td>78.185559</td>\n",
       "      <td>48184.566169</td>\n",
       "      <td>145.933664</td>\n",
       "      <td>376.769870</td>\n",
       "      <td>56141.162620</td>\n",
       "      <td>484.620543</td>\n",
       "      <td>59534.882875</td>\n",
       "      <td>5000.404592</td>\n",
       "      <td>60140.845251</td>\n",
       "      <td>57.016109</td>\n",
       "      <td>0.000017</td>\n",
       "      <td>554.0</td>\n",
       "      <td>0.0</td>\n",
       "      <td>0.0</td>\n",
       "      <td>93.577706</td>\n",
       "      <td>554.0</td>\n",
       "      <td>0.0</td>\n",
       "      <td>0.0</td>\n",
       "      <td>554.0</td>\n",
       "      <td>2.369052e-07</td>\n",
       "      <td>2797.552202</td>\n",
       "      <td>553.979500</td>\n",
       "      <td>553.941593</td>\n",
       "      <td>5.371200</td>\n",
       "      <td>553.941593</td>\n",
       "      <td>28.849789</td>\n",
       "      <td>5.296807e-03</td>\n",
       "      <td>0.000134</td>\n",
       "      <td>5.324834e-03</td>\n",
       "      <td>0.000186</td>\n",
       "      <td>2797.552202</td>\n",
       "      <td>1.618776e-02</td>\n",
       "      <td>1.100238e+04</td>\n",
       "      <td>2.910383e-10</td>\n",
       "      <td>0.0</td>\n",
       "      <td>0.0</td>\n",
       "      <td>554.0</td>\n",
       "      <td>0.0</td>\n",
       "      <td>554.0</td>\n",
       "      <td>0.000015</td>\n",
       "      <td>0.0</td>\n",
       "      <td>0.000025</td>\n",
       "      <td>6.402843e-10</td>\n",
       "      <td>0.0</td>\n",
       "      <td>23326.393833</td>\n",
       "      <td>0.000046</td>\n",
       "      <td>0</td>\n",
       "    </tr>\n",
       "  </tbody>\n",
       "</table>\n",
       "</div>"
      ],
      "text/plain": [
       "   MI_dir_L3_weight  MI_dir_L3_variance  MI_dir_L0_1_mean  MI_dir_L0_1_variance  MI_dir_L0_01_weight  MI_dir_L0_01_mean  H_L5_weight  H_L5_variance  H_L3_weight   H_L3_mean  H_L3_variance  H_L1_weight  H_L1_variance  H_L0_1_weight  H_L0_1_variance  HH_L5_weight  HH_L5_std  HH_L5_magnitude  HH_L5_covariance  HH_L5_pcc  HH_L3_weight  HH_L3_magnitude  HH_L3_covariance  HH_L3_pcc  HH_L1_magnitude  HH_L1_radius  HH_L0_1_weight  HH_L0_1_magnitude  HH_L0_01_mean  HH_L0_01_std  HH_L0_01_magnitude  HH_L0_01_radius  HH_jit_L5_mean  HH_jit_L5_variance  HH_jit_L3_mean  HH_jit_L1_variance  HH_jit_L0_1_weight  HH_jit_L0_1_mean  HH_jit_L0_01_mean  HpHp_L5_radius  HpHp_L5_covariance  HpHp_L5_pcc  HpHp_L3_magnitude  HpHp_L3_covariance  HpHp_L1_mean  HpHp_L1_std  HpHp_L1_covariance  HpHp_L0_1_std  HpHp_L0_1_radius  HpHp_L0_1_pcc  HpHp_L0_01_weight  HpHp_L0_01_std  label\n",
       "0        136.671365        59723.823548        340.812082          59840.036542         32772.131597         341.840263    91.211324   56329.158936   136.671365  271.592486   59723.823548   384.092631   60853.558076    3855.164044     59840.036542      1.000000   0.000000             60.0               0.0        0.0      1.000000             60.0               0.0        0.0             60.0  0.000000e+00        1.000000          60.000000      60.000000      0.000000           60.000000         0.000000    1.507656e+09            0.000000    1.507656e+09            0.000000            1.000000      1.507656e+09       1.507656e+09    0.000000e+00                 0.0          0.0               60.0                 0.0          60.0     0.000000                 0.0       0.000000      0.000000e+00            0.0           1.000000        0.000000      0\n",
       "1        173.128639        34137.160623        390.985044          57924.428871         51189.559431         391.294253    95.029757   16807.590281   173.128639  485.834404   34137.160623   578.800756   53062.651631    6183.451303     57924.428871     88.317358   0.000013            566.0               0.0        0.0    145.699788            566.0               0.0        0.0            566.0  5.238689e-10     4044.703405         565.993158     565.968119      4.016312          565.968119        16.130762    3.376842e-03            0.000055    3.379372e-03            0.000117         4044.703405      2.474174e-02       8.481503e+03    0.000000e+00                 0.0          0.0              566.0                 0.0         566.0     0.000000                 0.0       0.000000      0.000000e+00            0.0           1.000000        0.000000      0\n",
       "2         69.853763            4.072216         60.097664              1.736939         19790.553326          60.096115    51.828167       3.639609    69.853763   60.178884       4.072216   196.266931       2.612387    2007.014853         1.736939      1.000000   0.000000             60.0               0.0        0.0      1.000000             60.0               0.0        0.0             60.0  0.000000e+00        1.000000          60.000000      60.000000      0.000000           60.000000         0.000000    1.507654e+09            0.000000    1.507654e+09            0.000000            1.000000      1.507654e+09       1.507654e+09    0.000000e+00                 0.0          0.0               60.0                 0.0          60.0     0.000000                 0.0       0.000000      0.000000e+00            0.0           1.000000        0.000000      0\n",
       "3        136.713851        44912.104234        337.821252          60036.726634         10593.159382         344.609258   102.036581   36930.765509   136.713851  180.251616   44912.104234   338.369210   59860.066216    3680.360996     60036.726634      1.000000   0.000000             60.0               0.0        0.0      1.000000             60.0               0.0        0.0             60.0  0.000000e+00        1.000000          60.000000      60.000000      0.000000           60.000000         0.000000    1.507656e+09            0.000000    1.507656e+09            0.000000            1.000000      1.507656e+09       1.507656e+09    0.000000e+00                 0.0          0.0               60.0                 0.0          60.0     0.000000                 0.0       0.000000      0.000000e+00            0.0           1.000000        0.000000      0\n",
       "4        145.933664        56141.162620        336.375771          60140.845251         41710.317979         336.277714    78.185559   48184.566169   145.933664  376.769870   56141.162620   484.620543   59534.882875    5000.404592     60140.845251     57.016109   0.000017            554.0               0.0        0.0     93.577706            554.0               0.0        0.0            554.0  2.369052e-07     2797.552202         553.979500     553.941593      5.371200          553.941593        28.849789    5.296807e-03            0.000134    5.324834e-03            0.000186         2797.552202      1.618776e-02       1.100238e+04    2.910383e-10                 0.0          0.0              554.0                 0.0         554.0     0.000015                 0.0       0.000025      6.402843e-10            0.0       23326.393833        0.000046      0"
      ]
     },
     "execution_count": 8,
     "metadata": {},
     "output_type": "execute_result"
    }
   ],
   "source": [
    "dfTest = ps.read_csv('../../../../../datasets/dacoga/nbaiot/test/dsetN-Baiot_v2_100_test.csv')\n",
    "dfTest = dfTest[dfTrain.columns]\n",
    "dfTest.head()"
   ]
  },
  {
   "cell_type": "code",
   "execution_count": 9,
   "metadata": {},
   "outputs": [],
   "source": [
    "# Listando as colunas\n",
    "#dfTrain.columns"
   ]
  },
  {
   "cell_type": "code",
   "execution_count": 10,
   "metadata": {},
   "outputs": [],
   "source": [
    "#dfTest.columns"
   ]
  },
  {
   "cell_type": "code",
   "execution_count": 11,
   "metadata": {},
   "outputs": [],
   "source": [
    "# Start algorithms time\n",
    "start_time = time.time()"
   ]
  },
  {
   "cell_type": "code",
   "execution_count": 12,
   "metadata": {},
   "outputs": [],
   "source": [
    "dataframeTrain = dfTrain.to_spark()"
   ]
  },
  {
   "cell_type": "code",
   "execution_count": 13,
   "metadata": {},
   "outputs": [],
   "source": [
    "vecAssembler = VectorAssembler(inputCols=dataframeTrain.columns[:-1], outputCol='features')\n",
    "\n",
    "dsetTrain = vecAssembler.transform(dataframeTrain)\n",
    "dsetTrain = dsetTrain.select(\"label\",\"features\")\n",
    "\n",
    "#dfTrain.show(5, truncate=True)"
   ]
  },
  {
   "cell_type": "code",
   "execution_count": 14,
   "metadata": {},
   "outputs": [
    {
     "name": "stderr",
     "output_type": "stream",
     "text": [
      "                                                                                \r"
     ]
    }
   ],
   "source": [
    "mmScaler = feature.MinMaxScaler(inputCol='features', \n",
    "                                outputCol='scaled_features').fit(dsetTrain)\n",
    "\n",
    "dsetTrain = mmScaler.transform(dsetTrain).drop('features')\n",
    "dsetTrain = dsetTrain.withColumnRenamed('scaled_features', 'features')\n",
    "\n",
    "#dfTrain.show(5, truncate=True)"
   ]
  },
  {
   "cell_type": "code",
   "execution_count": 15,
   "metadata": {},
   "outputs": [],
   "source": [
    "dataframeTest = dfTest.to_spark()"
   ]
  },
  {
   "cell_type": "code",
   "execution_count": 16,
   "metadata": {},
   "outputs": [],
   "source": [
    "vecAssembler = VectorAssembler(inputCols=dataframeTest.columns[:-1], outputCol='features')\n",
    "\n",
    "dsetTest = vecAssembler.transform(dataframeTest)\n",
    "dsetTest = dsetTest.select(\"label\",\"features\")\n",
    "\n",
    "#dfTrain.show(5, truncate=True)"
   ]
  },
  {
   "cell_type": "code",
   "execution_count": 17,
   "metadata": {},
   "outputs": [
    {
     "name": "stderr",
     "output_type": "stream",
     "text": [
      "                                                                                \r"
     ]
    }
   ],
   "source": [
    "mmScaler = feature.MinMaxScaler(inputCol='features', \n",
    "                                outputCol='scaled_features').fit(dsetTest)\n",
    "\n",
    "dsetTest = mmScaler.transform(dsetTest).drop('features')\n",
    "dsetTest = dsetTest.withColumnRenamed('scaled_features', 'features')\n",
    "\n",
    "#dfTrain.show(5, truncate=True)"
   ]
  },
  {
   "cell_type": "code",
   "execution_count": 18,
   "metadata": {},
   "outputs": [],
   "source": [
    "# Split ramdomly the dataset into train and test group\n",
    "# [0.7,0.3] => 70% for train and 30% for test\n",
    "# [1.0,0.2] => 100% for train and 20% for test, not good, acuracy always 100%\n",
    "# [0.1,0.02] => 10% for train and 2% for test, if big datasets\n",
    "# 1234 is the random seed\n",
    "\n",
    "# Sample of train and test dataset\n",
    "train_sample = 0.7\n",
    "test_sample = 0.3\n",
    "\n",
    "# Split the data into training and test sets (30% held out for testing)\n",
    "#(trainingData, testData) = df_spark.randomSplit([train_sample, test_sample], seed=1234)\n",
    "\n",
    "trainingData = dsetTrain\n",
    "testData = dsetTest"
   ]
  },
  {
   "cell_type": "code",
   "execution_count": 19,
   "metadata": {},
   "outputs": [],
   "source": [
    "# Dicionário de resultados\n",
    "dic = {}"
   ]
  },
  {
   "cell_type": "markdown",
   "metadata": {},
   "source": [
    "### Treinando e avaliando com Árvore de Decisão"
   ]
  },
  {
   "cell_type": "code",
   "execution_count": 20,
   "metadata": {},
   "outputs": [
    {
     "name": "stderr",
     "output_type": "stream",
     "text": [
      "                                                                                \r"
     ]
    }
   ],
   "source": [
    "start_time_dt =  time.time()\n",
    "\n",
    "# Train a DecisionTree model\n",
    "clf_dt = DecisionTreeClassifier(featuresCol='features', labelCol='label', predictionCol='prediction', probabilityCol='probability', \\\n",
    "                            rawPredictionCol='rawPrediction', maxDepth=5, maxBins=32, minInstancesPerNode=1, minInfoGain=0.0, \\\n",
    "                            maxMemoryInMB=256, cacheNodeIds=False, checkpointInterval=10, impurity='gini', seed=None)\n",
    "\n",
    "# Train model\n",
    "model_dt = clf_dt.fit(trainingData)\n",
    "\n",
    "# Make predictions.\n",
    "pred_dt = model_dt.transform(testData)"
   ]
  },
  {
   "cell_type": "code",
   "execution_count": 21,
   "metadata": {},
   "outputs": [
    {
     "name": "stderr",
     "output_type": "stream",
     "text": [
      "[Stage 39:==========================================>             (18 + 6) / 24]\r"
     ]
    },
    {
     "name": "stdout",
     "output_type": "stream",
     "text": [
      "============================================================\n",
      "========== Sumário da Avaliação Árvore de Decisão ==========\n",
      "Acurácia = 99.72 %\n",
      "Precisão = 99.66 %\n",
      "Recall = 99.99 %\n",
      "F1-Score = 99.72 %\n",
      "Curva ROC = 99.72 %\n",
      "Tempo de Execução = 105.853 s\n",
      "============================================================\n"
     ]
    },
    {
     "name": "stderr",
     "output_type": "stream",
     "text": [
      "                                                                                \r"
     ]
    }
   ],
   "source": [
    "# Compute accuracy on the test set against model and select (prediction, true label) and compute test error\n",
    "eval_accuracy_dt = MulticlassClassificationEvaluator(labelCol=\"label\", predictionCol=\"prediction\", metricName=\"accuracy\")\n",
    "eval_precision_dt = MulticlassClassificationEvaluator(labelCol=\"label\", predictionCol=\"prediction\", metricName=\"precisionByLabel\")\n",
    "eval_recall_dt = MulticlassClassificationEvaluator(labelCol=\"label\", predictionCol=\"prediction\", metricName=\"recallByLabel\")\n",
    "eval_f1_dt = MulticlassClassificationEvaluator(labelCol=\"label\", predictionCol=\"prediction\", metricName=\"f1\")\n",
    "eval_auc_dt = BinaryClassificationEvaluator(labelCol=\"label\", rawPredictionCol=\"prediction\")\n",
    "\n",
    "accuracy_dt = eval_accuracy_dt.evaluate(pred_dt) * 100\n",
    "precision_dt = eval_precision_dt.evaluate(pred_dt) * 100\n",
    "recall_dt = eval_recall_dt.evaluate(pred_dt) * 100\n",
    "f1score_dt = eval_f1_dt.evaluate(pred_dt) * 100\n",
    "auc_dt = eval_accuracy_dt.evaluate(pred_dt) * 100\n",
    "\n",
    "dic['Árvore de\\nDecisão']  = accuracy_dt\n",
    "time_dt = time.time() - start_time_dt\n",
    "\n",
    "print(\"============================================================\")\n",
    "print(\"========== Sumário da Avaliação Árvore de Decisão ==========\")\n",
    "print(\"Acurácia = %3.2f %%\" % accuracy_dt)\n",
    "print(\"Precisão = %3.2f %%\" % precision_dt)\n",
    "print(\"Recall = %3.2f %%\" % recall_dt)\n",
    "print(\"F1-Score = %3.2f %%\" % f1score_dt)\n",
    "print(\"Curva ROC = %3.2f %%\" % auc_dt)\n",
    "print(\"Tempo de Execução = %3.3f s\" % time_dt)\n",
    "print(\"============================================================\")"
   ]
  },
  {
   "cell_type": "code",
   "execution_count": 22,
   "metadata": {},
   "outputs": [
    {
     "name": "stderr",
     "output_type": "stream",
     "text": [
      "                                                                                \r"
     ]
    },
    {
     "name": "stdout",
     "output_type": "stream",
     "text": [
      "+-----+----------+------+\n",
      "|label|prediction| count|\n",
      "+-----+----------+------+\n",
      "|    1|       1.0|152026|\n",
      "|    0|       0.0|590051|\n",
      "|    0|       1.0|    31|\n",
      "|    1|       0.0|  2039|\n",
      "+-----+----------+------+\n",
      "\n"
     ]
    },
    {
     "name": "stderr",
     "output_type": "stream",
     "text": [
      "[Stage 44:=====================================================>  (23 + 1) / 24]\r"
     ]
    },
    {
     "name": "stdout",
     "output_type": "stream",
     "text": [
      "+-----+------+------+\n",
      "|label|     0|     1|\n",
      "+-----+------+------+\n",
      "|    1|  2039|152026|\n",
      "|    0|590051|    31|\n",
      "+-----+------+------+\n",
      "\n"
     ]
    },
    {
     "name": "stderr",
     "output_type": "stream",
     "text": [
      "                                                                                \r"
     ]
    }
   ],
   "source": [
    "# Agrupar por rótulos reais e previsões e contar o número de ocorrências\n",
    "confusion_matrix_df = pred_dt.groupBy('label', 'prediction').count()\n",
    "\n",
    "# Para visualizar a matriz de confusão como um DataFrame\n",
    "confusion_matrix_df.show()\n",
    "\n",
    "# Para uma melhor visualização e entendimento, você pode pivotar os dados\n",
    "# Isso é útil especialmente se você tem um número fixo de classes e deseja uma matriz quadrada\n",
    "confusion_matrix_pivot_dt = confusion_matrix_df.groupBy('label').pivot('prediction', [0, 1]).sum('count')\\\n",
    "                                            .fillna(0) # substitui os NAs por 0 para casos onde não há previsões para uma classe\n",
    "\n",
    "confusion_matrix_pivot_dt.show()"
   ]
  },
  {
   "cell_type": "code",
   "execution_count": 23,
   "metadata": {},
   "outputs": [],
   "source": [
    "# print(\"Decision Tree Final Result\")\n",
    "# predictions.show(5)"
   ]
  },
  {
   "cell_type": "markdown",
   "metadata": {},
   "source": [
    "### Treinando e avaliando com Random Forest"
   ]
  },
  {
   "cell_type": "code",
   "execution_count": 24,
   "metadata": {},
   "outputs": [
    {
     "name": "stderr",
     "output_type": "stream",
     "text": [
      "                                                                                \r"
     ]
    }
   ],
   "source": [
    "start_time_rf =  time.time()\n",
    "\n",
    "# Train a Random Forest model\n",
    "clf_rf = RandomForestClassifier(featuresCol='features', labelCol='label', predictionCol='prediction', probabilityCol='probability',\\\n",
    "                                 rawPredictionCol='rawPrediction', maxDepth=5, maxBins=32, minInstancesPerNode=1, minInfoGain=0.0,\\\n",
    "                                 numTrees=50, featureSubsetStrategy='auto', seed=None, subsamplingRate=1.0,\\\n",
    "                                 maxMemoryInMB=256, cacheNodeIds=False, checkpointInterval=10, impurity='gini')\n",
    "\n",
    "# Train model\n",
    "model_rf = clf_rf.fit(trainingData)\n",
    "\n",
    "# Make predictions.\n",
    "pred_rf = model_rf.transform(testData)"
   ]
  },
  {
   "cell_type": "code",
   "execution_count": 25,
   "metadata": {},
   "outputs": [
    {
     "name": "stderr",
     "output_type": "stream",
     "text": [
      "[Stage 75:=================================================>      (21 + 3) / 24]\r"
     ]
    },
    {
     "name": "stdout",
     "output_type": "stream",
     "text": [
      "========================================================\n",
      "========== Sumário da Avaliação Random Forest ==========\n",
      "Acurácia = 99.98 %\n",
      "Precisão = 100.00 %\n",
      "Recall = 99.98 %\n",
      "F1-Score = 99.98 %\n",
      "Curva ROC = 99.98 %\n",
      "Tempo de Execução = 71.404 s\n",
      "========================================================\n"
     ]
    },
    {
     "name": "stderr",
     "output_type": "stream",
     "text": [
      "                                                                                \r"
     ]
    }
   ],
   "source": [
    "# Compute accuracy on the test set against model and select (prediction, true label) and compute test error\n",
    "eval_accuracy_rf = MulticlassClassificationEvaluator(labelCol=\"label\", predictionCol=\"prediction\", metricName=\"accuracy\")\n",
    "eval_precision_rf = MulticlassClassificationEvaluator(labelCol=\"label\", predictionCol=\"prediction\", metricName=\"precisionByLabel\")\n",
    "eval_recall_rf = MulticlassClassificationEvaluator(labelCol=\"label\", predictionCol=\"prediction\", metricName=\"recallByLabel\")\n",
    "eval_f1_rf = MulticlassClassificationEvaluator(labelCol=\"label\", predictionCol=\"prediction\", metricName=\"f1\")\n",
    "eval_auc_rf = BinaryClassificationEvaluator(labelCol=\"label\", rawPredictionCol=\"prediction\")\n",
    "\n",
    "accuracy_rf = eval_accuracy_dt.evaluate(pred_rf) * 100\n",
    "precision_rf = eval_precision_dt.evaluate(pred_rf) * 100\n",
    "recall_rf = eval_recall_dt.evaluate(pred_rf) * 100\n",
    "f1score_rf = eval_f1_dt.evaluate(pred_rf) * 100\n",
    "auc_rf = eval_accuracy_dt.evaluate(pred_rf) * 100\n",
    "\n",
    "dic['Random\\nForest']  = accuracy_rf\n",
    "time_rf = time.time() - start_time_rf\n",
    "\n",
    "print(\"========================================================\")\n",
    "print(\"========== Sumário da Avaliação Random Forest ==========\")\n",
    "print(\"Acurácia = %3.2f %%\" % accuracy_rf)\n",
    "print(\"Precisão = %3.2f %%\" % precision_rf)\n",
    "print(\"Recall = %3.2f %%\" % recall_rf)\n",
    "print(\"F1-Score = %3.2f %%\" % f1score_rf)\n",
    "print(\"Curva ROC = %3.2f %%\" % auc_rf)\n",
    "print(\"Tempo de Execução = %3.3f s\" % time_rf)\n",
    "print(\"========================================================\")"
   ]
  },
  {
   "cell_type": "code",
   "execution_count": 26,
   "metadata": {},
   "outputs": [
    {
     "name": "stderr",
     "output_type": "stream",
     "text": [
      "                                                                                \r"
     ]
    },
    {
     "name": "stdout",
     "output_type": "stream",
     "text": [
      "+-----+----------+------+\n",
      "|label|prediction| count|\n",
      "+-----+----------+------+\n",
      "|    1|       1.0|154047|\n",
      "|    0|       0.0|589959|\n",
      "|    0|       1.0|   123|\n",
      "|    1|       0.0|    18|\n",
      "+-----+----------+------+\n",
      "\n"
     ]
    },
    {
     "name": "stderr",
     "output_type": "stream",
     "text": [
      "[Stage 80:===================================>                    (15 + 9) / 24]\r"
     ]
    },
    {
     "name": "stdout",
     "output_type": "stream",
     "text": [
      "+-----+------+------+\n",
      "|label|     0|     1|\n",
      "+-----+------+------+\n",
      "|    1|    18|154047|\n",
      "|    0|589959|   123|\n",
      "+-----+------+------+\n",
      "\n"
     ]
    },
    {
     "name": "stderr",
     "output_type": "stream",
     "text": [
      "                                                                                \r"
     ]
    }
   ],
   "source": [
    "# Agrupar por rótulos reais e previsões e contar o número de ocorrências\n",
    "confusion_matrix_rf = pred_rf.groupBy('label', 'prediction').count()\n",
    "\n",
    "# Para visualizar a matriz de confusão como um DataFrame\n",
    "confusion_matrix_rf.show()\n",
    "\n",
    "# Para uma melhor visualização e entendimento, você pode pivotar os dados\n",
    "# Isso é útil especialmente se você tem um número fixo de classes e deseja uma matriz quadrada\n",
    "confusion_matrix_pivot_rf = confusion_matrix_rf.groupBy('label').pivot('prediction', [0, 1]).sum('count')\\\n",
    "                                            .fillna(0) # substitui os NAs por 0 para casos onde não há previsões para uma classe\n",
    "\n",
    "confusion_matrix_pivot_rf.show()"
   ]
  },
  {
   "cell_type": "markdown",
   "metadata": {},
   "source": [
    "### Treinando e avaliando com Naive Bayes"
   ]
  },
  {
   "cell_type": "code",
   "execution_count": 27,
   "metadata": {},
   "outputs": [
    {
     "name": "stderr",
     "output_type": "stream",
     "text": [
      "                                                                                \r"
     ]
    }
   ],
   "source": [
    "start_time_nb =  time.time()\n",
    "\n",
    "clf_nb = NaiveBayes(smoothing=1.0, modelType=\"multinomial\")\n",
    "\n",
    "# Train model\n",
    "model_nb = clf_nb.fit(trainingData)\n",
    "\n",
    "# Make predictions.\n",
    "pred_nb = model_nb.transform(testData)"
   ]
  },
  {
   "cell_type": "code",
   "execution_count": 28,
   "metadata": {},
   "outputs": [
    {
     "name": "stderr",
     "output_type": "stream",
     "text": [
      "[Stage 97:==============================================>         (20 + 4) / 24]\r"
     ]
    },
    {
     "name": "stdout",
     "output_type": "stream",
     "text": [
      "======================================================\n",
      "========== Sumário da Avaliação Naive Bayes ==========\n",
      "Acurácia = 99.89 %\n",
      "Precisão = 99.90 %\n",
      "Recall = 99.96 %\n",
      "F1-Score = 99.89 %\n",
      "Curva ROC = 99.89 %\n",
      "Tempo de Execução = 234.105 s\n",
      "======================================================\n"
     ]
    },
    {
     "name": "stderr",
     "output_type": "stream",
     "text": [
      "                                                                                \r"
     ]
    }
   ],
   "source": [
    "# Compute accuracy on the test set against model and select (prediction, true label) and compute test error\n",
    "eval_accuracy_nb = MulticlassClassificationEvaluator(labelCol=\"label\", predictionCol=\"prediction\", metricName=\"accuracy\")\n",
    "eval_precision_nb = MulticlassClassificationEvaluator(labelCol=\"label\", predictionCol=\"prediction\", metricName=\"precisionByLabel\")\n",
    "eval_recall_nb = MulticlassClassificationEvaluator(labelCol=\"label\", predictionCol=\"prediction\", metricName=\"recallByLabel\")\n",
    "eval_f1_nb = MulticlassClassificationEvaluator(labelCol=\"label\", predictionCol=\"prediction\", metricName=\"f1\")\n",
    "eval_auc_nb = BinaryClassificationEvaluator(labelCol=\"label\", rawPredictionCol=\"prediction\")\n",
    "\n",
    "accuracy_nb = eval_accuracy_dt.evaluate(pred_nb) * 100\n",
    "precision_nb = eval_precision_dt.evaluate(pred_nb) * 100\n",
    "recall_nb = eval_recall_dt.evaluate(pred_nb) * 100\n",
    "f1score_nb = eval_f1_dt.evaluate(pred_nb) * 100\n",
    "auc_nb = eval_accuracy_dt.evaluate(pred_nb) * 100\n",
    "\n",
    "dic[\"Naive\\nBayes\"]  = accuracy_nb\n",
    "time_nb = time.time() - start_time_nb\n",
    "\n",
    "print(\"======================================================\")\n",
    "print(\"========== Sumário da Avaliação Naive Bayes ==========\")\n",
    "print(\"Acurácia = %3.2f %%\" % accuracy_nb)\n",
    "print(\"Precisão = %3.2f %%\" % precision_nb)\n",
    "print(\"Recall = %3.2f %%\" % recall_nb)\n",
    "print(\"F1-Score = %3.2f %%\" % f1score_nb)\n",
    "print(\"Curva ROC = %3.2f %%\" % auc_nb)\n",
    "print(\"Tempo de Execução = %3.3f s\" % time_nb)\n",
    "print(\"======================================================\")"
   ]
  },
  {
   "cell_type": "code",
   "execution_count": 29,
   "metadata": {},
   "outputs": [
    {
     "name": "stderr",
     "output_type": "stream",
     "text": [
      "                                                                                \r"
     ]
    },
    {
     "name": "stdout",
     "output_type": "stream",
     "text": [
      "+-----+----------+------+\n",
      "|label|prediction| count|\n",
      "+-----+----------+------+\n",
      "|    1|       1.0|153479|\n",
      "|    0|       0.0|589864|\n",
      "|    0|       1.0|   218|\n",
      "|    1|       0.0|   586|\n",
      "+-----+----------+------+\n",
      "\n"
     ]
    },
    {
     "name": "stderr",
     "output_type": "stream",
     "text": [
      "[Stage 102:==================================>                    (15 + 9) / 24]\r"
     ]
    },
    {
     "name": "stdout",
     "output_type": "stream",
     "text": [
      "+-----+------+------+\n",
      "|label|     0|     1|\n",
      "+-----+------+------+\n",
      "|    1|    18|154047|\n",
      "|    0|589959|   123|\n",
      "+-----+------+------+\n",
      "\n"
     ]
    },
    {
     "name": "stderr",
     "output_type": "stream",
     "text": [
      "                                                                                \r"
     ]
    }
   ],
   "source": [
    "# Agrupar por rótulos reais e previsões e contar o número de ocorrências\n",
    "confusion_matrix_nb = pred_nb.groupBy('label', 'prediction').count()\n",
    "\n",
    "# Para visualizar a matriz de confusão como um DataFrame\n",
    "confusion_matrix_nb.show()\n",
    "\n",
    "# Para uma melhor visualização e entendimento, você pode pivotar os dados\n",
    "# Isso é útil especialmente se você tem um número fixo de classes e deseja uma matriz quadrada\n",
    "confusion_matrix_pivot_nb = confusion_matrix_rf.groupBy('label').pivot('prediction', [0, 1]).sum('count')\\\n",
    "                                            .fillna(0) # substitui os NAs por 0 para casos onde não há previsões para uma classe\n",
    "\n",
    "confusion_matrix_pivot_nb.show()"
   ]
  },
  {
   "cell_type": "markdown",
   "metadata": {},
   "source": [
    "### Treinando e avaliando com Suport Vector Machines (SVM)"
   ]
  },
  {
   "cell_type": "code",
   "execution_count": 30,
   "metadata": {},
   "outputs": [
    {
     "name": "stderr",
     "output_type": "stream",
     "text": [
      "24/02/25 15:24:26 WARN InstanceBuilder: Failed to load implementation from:dev.ludovic.netlib.blas.JNIBLAS\n",
      "                                                                                \r"
     ]
    }
   ],
   "source": [
    "start_time_svm =  time.time()\n",
    "\n",
    "# create the trainer and set its parameters\n",
    "clf_svm = LinearSVC(featuresCol='features', labelCol='label', maxIter=10, regParam=0.1)\n",
    "\n",
    "# train the multiclass model.\n",
    "model_svm = clf_svm.fit(trainingData)\n",
    "\n",
    "# score the model on test data.\n",
    "pred_svm = model_svm.transform(testData)"
   ]
  },
  {
   "cell_type": "code",
   "execution_count": 31,
   "metadata": {},
   "outputs": [
    {
     "name": "stderr",
     "output_type": "stream",
     "text": [
      "[Stage 170:==================================================>    (22 + 2) / 24]\r"
     ]
    },
    {
     "name": "stdout",
     "output_type": "stream",
     "text": [
      "==============================================\n",
      "========== Sumário da Avaliação SVM ==========\n",
      "Acurácia = 96.61 %\n",
      "Precisão = 95.91 %\n",
      "Recall = 99.99 %\n",
      "F1-Score = 96.50 %\n",
      "Curva ROC = 96.61 %\n",
      "Tempo de Execução = 2800.548 s\n",
      "==============================================\n"
     ]
    },
    {
     "name": "stderr",
     "output_type": "stream",
     "text": [
      "                                                                                \r"
     ]
    }
   ],
   "source": [
    "# Compute accuracy on the test set against model and select (prediction, true label) and compute test error\n",
    "eval_accuracy_svm = MulticlassClassificationEvaluator(labelCol=\"label\", predictionCol=\"prediction\", metricName=\"accuracy\")\n",
    "eval_precision_svm = MulticlassClassificationEvaluator(labelCol=\"label\", predictionCol=\"prediction\", metricName=\"precisionByLabel\")\n",
    "eval_recall_svm = MulticlassClassificationEvaluator(labelCol=\"label\", predictionCol=\"prediction\", metricName=\"recallByLabel\")\n",
    "eval_f1_svm = MulticlassClassificationEvaluator(labelCol=\"label\", predictionCol=\"prediction\", metricName=\"f1\")\n",
    "eval_auc_svm = BinaryClassificationEvaluator(labelCol=\"label\", rawPredictionCol=\"prediction\")\n",
    "\n",
    "accuracy_svm = eval_accuracy_svm.evaluate(pred_svm) * 100\n",
    "precision_svm = eval_precision_svm.evaluate(pred_svm) * 100\n",
    "recall_svm = eval_recall_svm.evaluate(pred_svm) * 100\n",
    "f1score_svm = eval_f1_svm.evaluate(pred_svm) * 100\n",
    "auc_svm = eval_accuracy_svm.evaluate(pred_svm) * 100\n",
    "\n",
    "dic[\"SVM\"]  = accuracy_svm\n",
    "time_svm = time.time() - start_time_svm\n",
    "\n",
    "print(\"==============================================\")\n",
    "print(\"========== Sumário da Avaliação SVM ==========\")\n",
    "print(\"Acurácia = %3.2f %%\" % accuracy_svm)\n",
    "print(\"Precisão = %3.2f %%\" % precision_svm)\n",
    "print(\"Recall = %3.2f %%\" % recall_svm)\n",
    "print(\"F1-Score = %3.2f %%\" % f1score_svm)\n",
    "print(\"Curva ROC = %3.2f %%\" % auc_svm)\n",
    "print(\"Tempo de Execução = %3.3f s\" % time_svm)\n",
    "print(\"==============================================\")\n",
    "# https://www.kaggle.com/code/shrutimechlearn/pyspark-part-3-classification-modelling-dtree\n",
    "# https://spark.apache.org/docs/latest/ml-classification-regression.html#linear-support-vector-machine\n",
    "# https://spark.apache.org/docs/2.2.0/mllib-evaluation-metrics.html"
   ]
  },
  {
   "cell_type": "code",
   "execution_count": 32,
   "metadata": {},
   "outputs": [
    {
     "name": "stdout",
     "output_type": "stream",
     "text": [
      "================================================================================\n",
      "=========================  Compare Algorithm and Time ==========================\n",
      "\n",
      "Técnicas               Acurácia  Precisão  Recall   F1-Score   ROC      Tempo\n",
      "Decision Tree:         99.722%   99.656%   99.995%  99.721%    99.722%  105.853s\n",
      "Random Forest:         99.981%   99.997%   99.979%  99.981%    99.981%  71.404s\n",
      "Naive Bayes:           99.892%   99.901%   99.963%  99.892%    99.892%  234.105s\n",
      "SVM:                   96.610%   95.911%   99.988%  96.495%    96.610%  2800.548s\n",
      "================================================================================\n"
     ]
    }
   ],
   "source": [
    "print(\"================================================================================\")\n",
    "print(\"=========================  Compare Algorithm and Time ==========================\")\n",
    "print()\n",
    "print(\"Técnicas               Acurácia  Precisão  Recall   F1-Score   ROC      Tempo\")\n",
    "print(\"Decision Tree:         %3.3f%%   %3.3f%%   %3.3f%%  %3.3f%%    %3.3f%%  %3.3fs\" % (accuracy_dt, precision_dt, recall_dt, f1score_dt, auc_dt, time_dt))\n",
    "print(\"Random Forest:         %3.3f%%   %3.3f%%   %3.3f%%  %3.3f%%    %3.3f%%  %3.3fs\" % (accuracy_rf, precision_rf, recall_rf, f1score_rf, auc_rf, time_rf))\n",
    "print(\"Naive Bayes:           %3.3f%%   %3.3f%%   %3.3f%%  %3.3f%%    %3.3f%%  %3.3fs\" % (accuracy_nb, precision_nb, recall_nb, f1score_nb, auc_nb, time_nb))\n",
    "print(\"SVM:                   %3.3f%%   %3.3f%%   %3.3f%%  %3.3f%%    %3.3f%%  %3.3fs\" % (accuracy_svm,precision_svm,recall_svm,f1score_svm,auc_svm,time_svm))\n",
    "print(\"================================================================================\")"
   ]
  },
  {
   "cell_type": "code",
   "execution_count": 33,
   "metadata": {},
   "outputs": [
    {
     "data": {
      "text/plain": [
       "Árvore de\\nDecisão    99.721829\n",
       "Random\\nForest        99.981052\n",
       "Naive\\nBayes          99.891957\n",
       "SVM                   96.610213\n",
       "Name: Acurácia, dtype: float64"
      ]
     },
     "execution_count": 33,
     "metadata": {},
     "output_type": "execute_result"
    }
   ],
   "source": [
    "validation = pd.Series(dic, name=\"Acurácia\")\n",
    "validation"
   ]
  },
  {
   "cell_type": "code",
   "execution_count": 34,
   "metadata": {},
   "outputs": [
    {
     "data": {
      "text/plain": [
       "[Text(0, 0, '99.7218'),\n",
       " Text(0, 0, '99.9811'),\n",
       " Text(0, 0, '99.8920'),\n",
       " Text(0, 0, '96.6102')]"
      ]
     },
     "execution_count": 34,
     "metadata": {},
     "output_type": "execute_result"
    },
    {
     "data": {
      "image/png": "[encoded data removed]",
      "text/plain": [
       "<Figure size 640x480 with 1 Axes>"
      ]
     },
     "metadata": {},
     "output_type": "display_data"
    }
   ],
   "source": [
    "classificadores = dic.keys()\n",
    "acc = dic.values()\n",
    "\n",
    "fig, ax = plt.subplots()\n",
    "bar_container = ax.bar(classificadores, acc)\n",
    "#ax.set(ylabel='Acurácia', xlabel='Classificadores', title='Acurácia dos Classificadores', ylim=(0, 1.1))\n",
    "ax.set(ylabel='Acurácia', xlabel='Classificadores', title='Acurácia dos Classificadores')\n",
    "ax.bar_label(bar_container, fmt='{:,.4f}')"
   ]
  },
  {
   "cell_type": "code",
   "execution_count": 35,
   "metadata": {},
   "outputs": [
    {
     "name": "stdout",
     "output_type": "stream",
     "text": [
      "--- Tempo de execução: 3307.21 segundos ---\n"
     ]
    }
   ],
   "source": [
    "# Contabiliza o tempo de execução do algoritmo\n",
    "tempo_total = (time.time() - start_time)\n",
    "print(f'--- Tempo de execução: {tempo_total:.2f} segundos ---')"
   ]
  },
  {
   "cell_type": "code",
   "execution_count": 36,
   "metadata": {},
   "outputs": [],
   "source": [
    "# Stop Spark session\n",
    "spark.stop()"
   ]
  }
 ],
 "metadata": {
  "colab": {
   "name": "30X40_ABAOCPMeasure-SVM-wine.ipynb",
   "provenance": [],
   "toc_visible": true
  },
  "kernelspec": {
   "display_name": "Python 3 (ipykernel)",
   "language": "python",
   "name": "python3"
  },
  "language_info": {
   "codemirror_mode": {
    "name": "ipython",
    "version": 3
   },
   "file_extension": ".py",
   "mimetype": "text/x-python",
   "name": "python",
   "nbconvert_exporter": "python",
   "pygments_lexer": "ipython3",
   "version": "3.9.18"
  }
 },
 "nbformat": 4,
 "nbformat_minor": 4
}
